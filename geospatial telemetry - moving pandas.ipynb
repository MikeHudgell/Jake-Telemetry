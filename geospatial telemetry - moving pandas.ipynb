{
 "cells": [
  {
   "cell_type": "code",
   "execution_count": null,
   "metadata": {
    "application/vnd.databricks.v1+cell": {
     "inputWidgets": {},
     "nuid": "1ad43e38-3f74-46ef-9847-e5549fc8af32",
     "showTitle": false,
     "title": ""
    }
   },
   "outputs": [],
   "source": [
    "\n",
    "import rtree, pygeos\n",
    "import pandas as pd\n",
    "import geopandas as gpd\n",
    "from shapely.geometry import Point\n",
    "import os\n",
    "import folium\n",
    "\n",
    "import numpy as np\n",
    "from matplotlib import pyplot as plt\n",
    "from sklearn.cluster import KMeans\n",
    "import numpy as np\n",
    "import statsmodels.api as sm\n",
    "from datetime import datetime, timedelta"
   ]
  },
  {
   "cell_type": "code",
   "execution_count": null,
   "metadata": {},
   "outputs": [],
   "source": [
    "%%javascript\n",
    "IPython.OutputArea.prototype._should_scroll = function(lines) {\n",
    "    return false;\n",
    "}"
   ]
  },
  {
   "cell_type": "code",
   "execution_count": null,
   "metadata": {
    "application/vnd.databricks.v1+cell": {
     "inputWidgets": {},
     "nuid": "2ad2cc9b-4bf4-44de-b33e-a4bd67456e2b",
     "showTitle": false,
     "title": ""
    }
   },
   "outputs": [],
   "source": [
    "\n",
    "data_path = 'C:/Users/mhudgell/data/ais/'\n",
    "telemetry_df = pd.read_parquet(data_path, engine='pyarrow')"
   ]
  },
  {
   "cell_type": "code",
   "execution_count": null,
   "metadata": {},
   "outputs": [],
   "source": [
    "telemetry_df =  telemetry_df[['mmsi', 'acquisition_time', 'longitude', 'latitude', 'sog', 'cog']]"
   ]
  },
  {
   "cell_type": "code",
   "execution_count": null,
   "metadata": {},
   "outputs": [],
   "source": [
    "telemetry_df['sog'] = telemetry_df['sog'].astype(np.float32)"
   ]
  },
  {
   "cell_type": "code",
   "execution_count": null,
   "metadata": {},
   "outputs": [],
   "source": [
    "local_df = telemetry_df[((telemetry_df['latitude'] > 51.85975370) &  (telemetry_df['latitude'] < 55.34311203)) &\n",
    "                        ((telemetry_df['longitude'] > -7.33234434) & (telemetry_df['longitude'] < -2.45881019))]                \n"
   ]
  },
  {
   "cell_type": "code",
   "execution_count": null,
   "metadata": {},
   "outputs": [],
   "source": [
    "print(len(local_df.index), len(telemetry_df.index))"
   ]
  },
  {
   "cell_type": "code",
   "execution_count": null,
   "metadata": {},
   "outputs": [],
   "source": [
    "import movingpandas as mpd # needs python 3.9\n"
   ]
  },
  {
   "cell_type": "code",
   "execution_count": null,
   "metadata": {},
   "outputs": [],
   "source": [
    "geometry = [Point(xy) for xy in zip(local_df.longitude, local_df.latitude)]\n",
    "crs = {'init': 'epsg:4326'} #4326\n",
    "telemetry_gdf = gpd.GeoDataFrame(local_df, crs=crs, geometry=geometry)\n",
    "print(len(telemetry_gdf))\n",
    "telemetry_gdf['t'] = pd.to_datetime(telemetry_gdf['acquisition_time'], format='%Y-%m-%d %H:%M:%S')\n",
    "telemetry_gdf = telemetry_gdf.set_index('t')\n",
    "#telemetry_gdf = [telemetry_gdf.sog>0]\n",
    "print(len(telemetry_gdf))\n"
   ]
  },
  {
   "cell_type": "code",
   "execution_count": null,
   "metadata": {},
   "outputs": [],
   "source": [
    "MIN_LENGTH = 100 # meters\n",
    "traj_collection = mpd.TrajectoryCollection(gdf, 'mmsi', min_length=MIN_LENGTH)\n",
    "print(\"Finished creating {} trajectories\".format(len(traj_collection)))"
   ]
  },
  {
   "cell_type": "code",
   "execution_count": null,
   "metadata": {},
   "outputs": [],
   "source": [
    "trips = mpd.ObservationGapSplitter(traj_collection).split(gap=timedelta(minutes=5))\n",
    "print(\"Extracted {} individual trips from {} continuous vessel tracks\".format(len(trips), len(traj_collection)))\n",
    "\n"
   ]
  },
  {
   "cell_type": "code",
   "execution_count": null,
   "metadata": {},
   "outputs": [],
   "source": [
    "%%time\n",
    "generalized = mpd.MinDistanceGeneralizer(trips).generalize(tolerance=100)"
   ]
  },
  {
   "cell_type": "code",
   "execution_count": null,
   "metadata": {},
   "outputs": [],
   "source": [
    "\n",
    "%%time\n",
    "aggregator = mpd.TrajectoryCollectionAggregator(generalized, max_distance=1000, min_distance=100, min_stop_duration=timedelta(minutes=5))\n",
    "\n"
   ]
  },
  {
   "cell_type": "code",
   "execution_count": null,
   "metadata": {},
   "outputs": [],
   "source": [
    "\n",
    "\n",
    "pts = aggregator.get_significant_points_gdf()\n",
    "clusters = aggregator.get_clusters_gdf()\n",
    "( pts.hvplot(geo=True, tiles='OSM', frame_width=800) * \n",
    "  clusters.hvplot(geo=True, color='red') )\n"
   ]
  },
  {
   "cell_type": "code",
   "execution_count": null,
   "metadata": {},
   "outputs": [],
   "source": [
    "flows = aggregator.get_flows_gdf()"
   ]
  },
  {
   "cell_type": "code",
   "execution_count": null,
   "metadata": {},
   "outputs": [],
   "source": [
    "( aggregator_original.get_flows_gdf().hvplot(title='Original', geo=True, tiles='OSM', hover_cols=['weight'], line_width=dim('weight')*0.3, alpha=0.5, color='#1f77b3', frame_height=400, frame_width=400) * \n",
    "  aggregator_original.get_clusters_gdf().hvplot(geo=True, color='red', size='n') +\n",
    "  flows.hvplot(title='Generalized', geo=True, tiles='OSM', hover_cols=['weight'], line_width=dim('weight')*0.3, alpha=0.5, color='#1f77b3', frame_height=400, frame_width=400) * \n",
    "  clusters.hvplot(geo=True, color='red', size='n') \n",
    ")"
   ]
  },
  {
   "cell_type": "code",
   "execution_count": null,
   "metadata": {},
   "outputs": [],
   "source": []
  },
  {
   "cell_type": "code",
   "execution_count": null,
   "metadata": {},
   "outputs": [],
   "source": []
  }
 ],
 "metadata": {
  "application/vnd.databricks.v1+notebook": {
   "dashboards": [],
   "language": "python",
   "notebookMetadata": {
    "pythonIndentUnit": 2
   },
   "notebookName": "DSA - RTA",
   "notebookOrigID": 1076242557819948,
   "widgets": {}
  },
  "kernelspec": {
   "display_name": "Python 3 (ipykernel)",
   "language": "python",
   "name": "python3"
  },
  "language_info": {
   "codemirror_mode": {
    "name": "ipython",
    "version": 3
   },
   "file_extension": ".py",
   "mimetype": "text/x-python",
   "name": "python",
   "nbconvert_exporter": "python",
   "pygments_lexer": "ipython3",
   "version": "3.7.13"
  }
 },
 "nbformat": 4,
 "nbformat_minor": 1
}
