{
 "cells": [
  {
   "cell_type": "code",
   "execution_count": 2,
   "metadata": {
    "application/vnd.databricks.v1+cell": {
     "inputWidgets": {},
     "nuid": "1ad43e38-3f74-46ef-9847-e5549fc8af32",
     "showTitle": false,
     "title": ""
    }
   },
   "outputs": [
    {
     "name": "stderr",
     "output_type": "stream",
     "text": [
      "C:\\Anaconda3\\envs\\geo37\\lib\\site-packages\\geopandas\\_compat.py:110: UserWarning: The Shapely GEOS version (3.8.0-CAPI-1.13.1 ) is incompatible with the GEOS version PyGEOS was compiled with (3.10.3-CAPI-1.16.1). Conversions between both will be slow.\n",
      "  shapely_geos_version, geos_capi_version_string\n"
     ]
    }
   ],
   "source": [
    "\n",
    "import rtree, pygeos\n",
    "import pandas as pd\n",
    "import geopandas as gpd\n",
    "from shapely.geometry import Point\n",
    "import os\n",
    "import folium\n",
    "\n",
    "import numpy as np\n",
    "from matplotlib import pyplot as plt\n",
    "from sklearn.cluster import KMeans\n",
    "import numpy as np\n",
    "import statsmodels.api as sm\n",
    "from datetime import datetime, timedelta"
   ]
  },
  {
   "cell_type": "code",
   "execution_count": 3,
   "metadata": {},
   "outputs": [
    {
     "data": {
      "application/javascript": [
       "IPython.OutputArea.prototype._should_scroll = function(lines) {\n",
       "    return false;\n",
       "}\n"
      ],
      "text/plain": [
       "<IPython.core.display.Javascript object>"
      ]
     },
     "metadata": {},
     "output_type": "display_data"
    }
   ],
   "source": [
    "%%javascript\n",
    "IPython.OutputArea.prototype._should_scroll = function(lines) {\n",
    "    return false;\n",
    "}"
   ]
  },
  {
   "cell_type": "code",
   "execution_count": 4,
   "metadata": {
    "application/vnd.databricks.v1+cell": {
     "inputWidgets": {},
     "nuid": "2ad2cc9b-4bf4-44de-b33e-a4bd67456e2b",
     "showTitle": false,
     "title": ""
    }
   },
   "outputs": [
    {
     "data": {
      "text/plain": [
       "['1 Team & Station Trip Level Data - April 2024 - Randomised Updated.csv',\n",
       " '1 Team & Station Trip Level Data - April 2024 - Randomised.csv',\n",
       " 'Total Number of Vehicles in Fleet - April 2024.csv',\n",
       " 'Workshop Data - April 2024 - Randomised.csv']"
      ]
     },
     "execution_count": 4,
     "metadata": {},
     "output_type": "execute_result"
    }
   ],
   "source": [
    "\n",
    "data_path = 'C:/Users/mhudgell/data/dsa-jake/'\n",
    "os.listdir(data_path)"
   ]
  },
  {
   "cell_type": "code",
   "execution_count": 5,
   "metadata": {
    "application/vnd.databricks.v1+cell": {
     "inputWidgets": {},
     "nuid": "15cf24ba-d39b-4c8d-9c52-0e5f68b7f0b7",
     "showTitle": false,
     "title": ""
    }
   },
   "outputs": [],
   "source": [
    "file_path = data_path +'1 Team & Station Trip Level Data - April 2024 - Randomised Updated.csv'\n",
    "trip = pd.read_csv(file_path)\n"
   ]
  },
  {
   "cell_type": "code",
   "execution_count": 8,
   "metadata": {},
   "outputs": [
    {
     "data": {
      "text/html": [
       "<div>\n",
       "<style scoped>\n",
       "    .dataframe tbody tr th:only-of-type {\n",
       "        vertical-align: middle;\n",
       "    }\n",
       "\n",
       "    .dataframe tbody tr th {\n",
       "        vertical-align: top;\n",
       "    }\n",
       "\n",
       "    .dataframe thead th {\n",
       "        text-align: right;\n",
       "    }\n",
       "</style>\n",
       "<table border=\"1\" class=\"dataframe\">\n",
       "  <thead>\n",
       "    <tr style=\"text-align: right;\">\n",
       "      <th></th>\n",
       "      <th>Unnamed: 0</th>\n",
       "      <th>Registration</th>\n",
       "      <th>Fleet</th>\n",
       "      <th>Vehicle Function</th>\n",
       "      <th>Station</th>\n",
       "      <th>Date</th>\n",
       "      <th>Time - Start</th>\n",
       "      <th>Time - End</th>\n",
       "      <th>Trip Count</th>\n",
       "      <th>Miles Travelled</th>\n",
       "      <th>Hours</th>\n",
       "      <th>Speed</th>\n",
       "      <th>label</th>\n",
       "      <th>unavail_start</th>\n",
       "      <th>unavail_end</th>\n",
       "      <th>new_row</th>\n",
       "      <th>homeStationStart</th>\n",
       "      <th>homeStationEnd</th>\n",
       "    </tr>\n",
       "  </thead>\n",
       "  <tbody>\n",
       "    <tr>\n",
       "      <th>0</th>\n",
       "      <td>0</td>\n",
       "      <td>111111</td>\n",
       "      <td>South Worcestershire</td>\n",
       "      <td>PATROL</td>\n",
       "      <td>WORCESTER</td>\n",
       "      <td>01-Apr-24</td>\n",
       "      <td>00:36:19</td>\n",
       "      <td>01:16:04</td>\n",
       "      <td>1</td>\n",
       "      <td>2.49</td>\n",
       "      <td>0.66</td>\n",
       "      <td>3.77</td>\n",
       "      <td>Unavailable</td>\n",
       "      <td>01/04/2024 00:36</td>\n",
       "      <td>01/04/2024 01:16</td>\n",
       "      <td>False</td>\n",
       "      <td>True</td>\n",
       "      <td>True</td>\n",
       "    </tr>\n",
       "    <tr>\n",
       "      <th>1</th>\n",
       "      <td>1</td>\n",
       "      <td>111111</td>\n",
       "      <td>South Worcestershire</td>\n",
       "      <td>PATROL</td>\n",
       "      <td>WORCESTER</td>\n",
       "      <td>01-Apr-24</td>\n",
       "      <td>02:23:22</td>\n",
       "      <td>02:30:37</td>\n",
       "      <td>1</td>\n",
       "      <td>2.30</td>\n",
       "      <td>0.12</td>\n",
       "      <td>19.17</td>\n",
       "      <td>Unavailable</td>\n",
       "      <td>01/04/2024 02:23</td>\n",
       "      <td>01/04/2024 02:30</td>\n",
       "      <td>False</td>\n",
       "      <td>True</td>\n",
       "      <td>True</td>\n",
       "    </tr>\n",
       "  </tbody>\n",
       "</table>\n",
       "</div>"
      ],
      "text/plain": [
       "   Unnamed: 0 Registration                 Fleet Vehicle Function    Station  \\\n",
       "0           0       111111  South Worcestershire           PATROL  WORCESTER   \n",
       "1           1       111111  South Worcestershire           PATROL  WORCESTER   \n",
       "\n",
       "        Date Time - Start Time - End  Trip Count  Miles Travelled  Hours  \\\n",
       "0  01-Apr-24     00:36:19   01:16:04           1             2.49   0.66   \n",
       "1  01-Apr-24     02:23:22   02:30:37           1             2.30   0.12   \n",
       "\n",
       "   Speed        label     unavail_start       unavail_end  new_row  \\\n",
       "0   3.77  Unavailable  01/04/2024 00:36  01/04/2024 01:16    False   \n",
       "1  19.17  Unavailable  01/04/2024 02:23  01/04/2024 02:30    False   \n",
       "\n",
       "   homeStationStart  homeStationEnd  \n",
       "0              True            True  \n",
       "1              True            True  "
      ]
     },
     "execution_count": 8,
     "metadata": {},
     "output_type": "execute_result"
    }
   ],
   "source": [
    "trip.head(2)"
   ]
  },
  {
   "cell_type": "code",
   "execution_count": 9,
   "metadata": {},
   "outputs": [],
   "source": [
    "\n",
    "sorted_df = trip.sort_values(by=['Date', 'Registration'], ascending=True)\n"
   ]
  },
  {
   "cell_type": "code",
   "execution_count": 10,
   "metadata": {},
   "outputs": [
    {
     "data": {
      "text/plain": [
       "5194"
      ]
     },
     "execution_count": 10,
     "metadata": {},
     "output_type": "execute_result"
    }
   ],
   "source": [
    "len(sorted_df.index)"
   ]
  },
  {
   "cell_type": "code",
   "execution_count": 267,
   "metadata": {},
   "outputs": [],
   "source": [
    "\n",
    "midnight_df = sorted_df[(sorted_df['unavail_end'] < sorted_df['unavail_start'])]\n",
    "\n",
    "com_df['new_row'] = False\n",
    "new_row_list = []\n",
    "new_endtime = '23:59:59'\n",
    "for idx, row in sorted_df.iterrows():\n",
    "    if sorted_df.at[idx,'unavail_end'] < sorted_df.at[idx,'unavail_start']:\n",
    "        new_row_copy = row.copy(deep=True)\n",
    "        new_row_list.append(new_row_copy)\n",
    "        sorted_df.at[idx, 'Time - End'] = new_endtime\n",
    "        \n"
   ]
  },
  {
   "cell_type": "code",
   "execution_count": 268,
   "metadata": {},
   "outputs": [
    {
     "name": "stdout",
     "output_type": "stream",
     "text": [
      "70\n",
      "70\n"
     ]
    }
   ],
   "source": [
    "print(len(new_row_list))\n",
    "print(len(midnight_df.index))"
   ]
  },
  {
   "cell_type": "code",
   "execution_count": 269,
   "metadata": {},
   "outputs": [],
   "source": [
    "new_df = pd.DataFrame(new_row_list)"
   ]
  },
  {
   "cell_type": "code",
   "execution_count": 270,
   "metadata": {},
   "outputs": [],
   "source": [
    "new_df['Time - Start'] = '00:00:01'\n",
    "new_df['new_row'] = True"
   ]
  },
  {
   "cell_type": "code",
   "execution_count": 271,
   "metadata": {},
   "outputs": [],
   "source": [
    "new_df['Date'] = pd.to_datetime(new_df['Date']) + timedelta(days=1)\n",
    "new_df['Date'] = new_df['Date'].dt.strftime('%Y-%m-%d')"
   ]
  },
  {
   "cell_type": "code",
   "execution_count": 272,
   "metadata": {},
   "outputs": [],
   "source": [
    "new_df['Time - End'] = new_df['unavail_end'].dt.time\n",
    "\n",
    "new_df['Time - End'] = new_df['Time - End'].astype(str)\n"
   ]
  },
  {
   "cell_type": "code",
   "execution_count": 273,
   "metadata": {},
   "outputs": [],
   "source": [
    "new_df['unavail_start']  = pd.to_datetime(new_df['Date'] + ' ' + new_df['Time - Start']) \n",
    "new_df['unavail_end']  = pd.to_datetime(new_df['Date'] + ' ' + new_df['Time - End']) \n"
   ]
  },
  {
   "cell_type": "code",
   "execution_count": null,
   "metadata": {},
   "outputs": [],
   "source": []
  },
  {
   "cell_type": "code",
   "execution_count": 274,
   "metadata": {},
   "outputs": [],
   "source": [
    "sorted_df = sorted_df.append(new_df)\n",
    "sorted_df['homeStationStart'] = True\n",
    "sorted_df['homeStationEnd'] = True"
   ]
  },
  {
   "cell_type": "code",
   "execution_count": 275,
   "metadata": {},
   "outputs": [
    {
     "data": {
      "text/html": [
       "<div>\n",
       "<style scoped>\n",
       "    .dataframe tbody tr th:only-of-type {\n",
       "        vertical-align: middle;\n",
       "    }\n",
       "\n",
       "    .dataframe tbody tr th {\n",
       "        vertical-align: top;\n",
       "    }\n",
       "\n",
       "    .dataframe thead th {\n",
       "        text-align: right;\n",
       "    }\n",
       "</style>\n",
       "<table border=\"1\" class=\"dataframe\">\n",
       "  <thead>\n",
       "    <tr style=\"text-align: right;\">\n",
       "      <th></th>\n",
       "      <th>Registration</th>\n",
       "      <th>Fleet</th>\n",
       "      <th>Vehicle Function</th>\n",
       "      <th>Station</th>\n",
       "      <th>Date</th>\n",
       "      <th>Time - Start</th>\n",
       "      <th>Time - End</th>\n",
       "      <th>Trip Count</th>\n",
       "      <th>Miles Travelled</th>\n",
       "      <th>Hours</th>\n",
       "      <th>Speed</th>\n",
       "      <th>label</th>\n",
       "      <th>unavail_start</th>\n",
       "      <th>unavail_end</th>\n",
       "      <th>new_row</th>\n",
       "      <th>homeStationStart</th>\n",
       "      <th>homeStationEnd</th>\n",
       "    </tr>\n",
       "  </thead>\n",
       "  <tbody>\n",
       "    <tr>\n",
       "      <th>0</th>\n",
       "      <td>111111</td>\n",
       "      <td>South Worcestershire</td>\n",
       "      <td>PATROL</td>\n",
       "      <td>WORCESTER</td>\n",
       "      <td>01-Apr-24</td>\n",
       "      <td>00:36:19</td>\n",
       "      <td>01:16:04</td>\n",
       "      <td>1</td>\n",
       "      <td>2.49</td>\n",
       "      <td>0.66</td>\n",
       "      <td>3.77</td>\n",
       "      <td>Unavailable</td>\n",
       "      <td>2024-04-01 00:36:19</td>\n",
       "      <td>2024-04-01 01:16:04</td>\n",
       "      <td>False</td>\n",
       "      <td>True</td>\n",
       "      <td>True</td>\n",
       "    </tr>\n",
       "    <tr>\n",
       "      <th>1</th>\n",
       "      <td>111111</td>\n",
       "      <td>South Worcestershire</td>\n",
       "      <td>PATROL</td>\n",
       "      <td>WORCESTER</td>\n",
       "      <td>01-Apr-24</td>\n",
       "      <td>02:23:22</td>\n",
       "      <td>02:30:37</td>\n",
       "      <td>1</td>\n",
       "      <td>2.30</td>\n",
       "      <td>0.12</td>\n",
       "      <td>19.17</td>\n",
       "      <td>Unavailable</td>\n",
       "      <td>2024-04-01 02:23:22</td>\n",
       "      <td>2024-04-01 02:30:37</td>\n",
       "      <td>False</td>\n",
       "      <td>True</td>\n",
       "      <td>True</td>\n",
       "    </tr>\n",
       "    <tr>\n",
       "      <th>2</th>\n",
       "      <td>111111</td>\n",
       "      <td>South Worcestershire</td>\n",
       "      <td>PATROL</td>\n",
       "      <td>WORCESTER</td>\n",
       "      <td>01-Apr-24</td>\n",
       "      <td>03:24:11</td>\n",
       "      <td>03:32:05</td>\n",
       "      <td>1</td>\n",
       "      <td>2.24</td>\n",
       "      <td>0.13</td>\n",
       "      <td>17.23</td>\n",
       "      <td>Unavailable</td>\n",
       "      <td>2024-04-01 03:24:11</td>\n",
       "      <td>2024-04-01 03:32:05</td>\n",
       "      <td>False</td>\n",
       "      <td>True</td>\n",
       "      <td>True</td>\n",
       "    </tr>\n",
       "    <tr>\n",
       "      <th>3</th>\n",
       "      <td>111111</td>\n",
       "      <td>South Worcestershire</td>\n",
       "      <td>PATROL</td>\n",
       "      <td>WORCESTER</td>\n",
       "      <td>01-Apr-24</td>\n",
       "      <td>03:48:21</td>\n",
       "      <td>03:54:24</td>\n",
       "      <td>1</td>\n",
       "      <td>1.93</td>\n",
       "      <td>0.10</td>\n",
       "      <td>19.30</td>\n",
       "      <td>Unavailable</td>\n",
       "      <td>2024-04-01 03:48:21</td>\n",
       "      <td>2024-04-01 03:54:24</td>\n",
       "      <td>False</td>\n",
       "      <td>True</td>\n",
       "      <td>True</td>\n",
       "    </tr>\n",
       "    <tr>\n",
       "      <th>4</th>\n",
       "      <td>111111</td>\n",
       "      <td>South Worcestershire</td>\n",
       "      <td>PATROL</td>\n",
       "      <td>WORCESTER</td>\n",
       "      <td>01-Apr-24</td>\n",
       "      <td>03:59:36</td>\n",
       "      <td>05:46:48</td>\n",
       "      <td>1</td>\n",
       "      <td>37.97</td>\n",
       "      <td>1.79</td>\n",
       "      <td>21.21</td>\n",
       "      <td>Unavailable</td>\n",
       "      <td>2024-04-01 03:59:36</td>\n",
       "      <td>2024-04-01 05:46:48</td>\n",
       "      <td>False</td>\n",
       "      <td>True</td>\n",
       "      <td>True</td>\n",
       "    </tr>\n",
       "    <tr>\n",
       "      <th>...</th>\n",
       "      <td>...</td>\n",
       "      <td>...</td>\n",
       "      <td>...</td>\n",
       "      <td>...</td>\n",
       "      <td>...</td>\n",
       "      <td>...</td>\n",
       "      <td>...</td>\n",
       "      <td>...</td>\n",
       "      <td>...</td>\n",
       "      <td>...</td>\n",
       "      <td>...</td>\n",
       "      <td>...</td>\n",
       "      <td>...</td>\n",
       "      <td>...</td>\n",
       "      <td>...</td>\n",
       "      <td>...</td>\n",
       "      <td>...</td>\n",
       "    </tr>\n",
       "    <tr>\n",
       "      <th>2801</th>\n",
       "      <td>AAAAAA</td>\n",
       "      <td>South Worcestershire</td>\n",
       "      <td>PATROL</td>\n",
       "      <td>WORCESTER</td>\n",
       "      <td>2024-04-28</td>\n",
       "      <td>00:00:01</td>\n",
       "      <td>00:18:42</td>\n",
       "      <td>1</td>\n",
       "      <td>3.92</td>\n",
       "      <td>0.38</td>\n",
       "      <td>10.32</td>\n",
       "      <td>Unavailable</td>\n",
       "      <td>2024-04-28 00:00:01</td>\n",
       "      <td>2024-04-28 00:18:42</td>\n",
       "      <td>True</td>\n",
       "      <td>True</td>\n",
       "      <td>True</td>\n",
       "    </tr>\n",
       "    <tr>\n",
       "      <th>5088</th>\n",
       "      <td>FFFFFF</td>\n",
       "      <td>South Worcestershire</td>\n",
       "      <td>PATROL</td>\n",
       "      <td>WORCESTER</td>\n",
       "      <td>2024-04-28</td>\n",
       "      <td>00:00:01</td>\n",
       "      <td>00:20:51</td>\n",
       "      <td>1</td>\n",
       "      <td>15.54</td>\n",
       "      <td>0.86</td>\n",
       "      <td>18.07</td>\n",
       "      <td>Unavailable</td>\n",
       "      <td>2024-04-28 00:00:01</td>\n",
       "      <td>2024-04-28 00:20:51</td>\n",
       "      <td>True</td>\n",
       "      <td>True</td>\n",
       "      <td>True</td>\n",
       "    </tr>\n",
       "    <tr>\n",
       "      <th>1104</th>\n",
       "      <td>444444</td>\n",
       "      <td>South Worcestershire</td>\n",
       "      <td>PATROL</td>\n",
       "      <td>WORCESTER</td>\n",
       "      <td>2024-04-29</td>\n",
       "      <td>00:00:01</td>\n",
       "      <td>00:26:56</td>\n",
       "      <td>1</td>\n",
       "      <td>14.29</td>\n",
       "      <td>0.48</td>\n",
       "      <td>29.77</td>\n",
       "      <td>Unavailable</td>\n",
       "      <td>2024-04-29 00:00:01</td>\n",
       "      <td>2024-04-29 00:26:56</td>\n",
       "      <td>True</td>\n",
       "      <td>True</td>\n",
       "      <td>True</td>\n",
       "    </tr>\n",
       "    <tr>\n",
       "      <th>1818</th>\n",
       "      <td>666666</td>\n",
       "      <td>South Worcestershire</td>\n",
       "      <td>PATROL</td>\n",
       "      <td>WORCESTER</td>\n",
       "      <td>2024-04-29</td>\n",
       "      <td>00:00:01</td>\n",
       "      <td>00:00:37</td>\n",
       "      <td>1</td>\n",
       "      <td>1.24</td>\n",
       "      <td>0.13</td>\n",
       "      <td>9.54</td>\n",
       "      <td>Unavailable</td>\n",
       "      <td>2024-04-29 00:00:01</td>\n",
       "      <td>2024-04-29 00:00:37</td>\n",
       "      <td>True</td>\n",
       "      <td>True</td>\n",
       "      <td>True</td>\n",
       "    </tr>\n",
       "    <tr>\n",
       "      <th>3402</th>\n",
       "      <td>BBBBBB</td>\n",
       "      <td>South Worcestershire</td>\n",
       "      <td>PATROL</td>\n",
       "      <td>WORCESTER</td>\n",
       "      <td>2024-04-30</td>\n",
       "      <td>00:00:01</td>\n",
       "      <td>00:49:00</td>\n",
       "      <td>1</td>\n",
       "      <td>22.19</td>\n",
       "      <td>0.90</td>\n",
       "      <td>24.66</td>\n",
       "      <td>Unavailable</td>\n",
       "      <td>2024-04-30 00:00:01</td>\n",
       "      <td>2024-04-30 00:49:00</td>\n",
       "      <td>True</td>\n",
       "      <td>True</td>\n",
       "      <td>True</td>\n",
       "    </tr>\n",
       "  </tbody>\n",
       "</table>\n",
       "<p>5178 rows × 17 columns</p>\n",
       "</div>"
      ],
      "text/plain": [
       "     Registration                 Fleet Vehicle Function    Station  \\\n",
       "0          111111  South Worcestershire           PATROL  WORCESTER   \n",
       "1          111111  South Worcestershire           PATROL  WORCESTER   \n",
       "2          111111  South Worcestershire           PATROL  WORCESTER   \n",
       "3          111111  South Worcestershire           PATROL  WORCESTER   \n",
       "4          111111  South Worcestershire           PATROL  WORCESTER   \n",
       "...           ...                   ...              ...        ...   \n",
       "2801       AAAAAA  South Worcestershire           PATROL  WORCESTER   \n",
       "5088       FFFFFF  South Worcestershire           PATROL  WORCESTER   \n",
       "1104       444444  South Worcestershire           PATROL  WORCESTER   \n",
       "1818       666666  South Worcestershire           PATROL  WORCESTER   \n",
       "3402       BBBBBB  South Worcestershire           PATROL  WORCESTER   \n",
       "\n",
       "            Date Time - Start Time - End  Trip Count  Miles Travelled  Hours  \\\n",
       "0      01-Apr-24     00:36:19   01:16:04           1             2.49   0.66   \n",
       "1      01-Apr-24     02:23:22   02:30:37           1             2.30   0.12   \n",
       "2      01-Apr-24     03:24:11   03:32:05           1             2.24   0.13   \n",
       "3      01-Apr-24     03:48:21   03:54:24           1             1.93   0.10   \n",
       "4      01-Apr-24     03:59:36   05:46:48           1            37.97   1.79   \n",
       "...          ...          ...        ...         ...              ...    ...   \n",
       "2801  2024-04-28     00:00:01   00:18:42           1             3.92   0.38   \n",
       "5088  2024-04-28     00:00:01   00:20:51           1            15.54   0.86   \n",
       "1104  2024-04-29     00:00:01   00:26:56           1            14.29   0.48   \n",
       "1818  2024-04-29     00:00:01   00:00:37           1             1.24   0.13   \n",
       "3402  2024-04-30     00:00:01   00:49:00           1            22.19   0.90   \n",
       "\n",
       "      Speed        label       unavail_start         unavail_end  new_row  \\\n",
       "0      3.77  Unavailable 2024-04-01 00:36:19 2024-04-01 01:16:04    False   \n",
       "1     19.17  Unavailable 2024-04-01 02:23:22 2024-04-01 02:30:37    False   \n",
       "2     17.23  Unavailable 2024-04-01 03:24:11 2024-04-01 03:32:05    False   \n",
       "3     19.30  Unavailable 2024-04-01 03:48:21 2024-04-01 03:54:24    False   \n",
       "4     21.21  Unavailable 2024-04-01 03:59:36 2024-04-01 05:46:48    False   \n",
       "...     ...          ...                 ...                 ...      ...   \n",
       "2801  10.32  Unavailable 2024-04-28 00:00:01 2024-04-28 00:18:42     True   \n",
       "5088  18.07  Unavailable 2024-04-28 00:00:01 2024-04-28 00:20:51     True   \n",
       "1104  29.77  Unavailable 2024-04-29 00:00:01 2024-04-29 00:26:56     True   \n",
       "1818   9.54  Unavailable 2024-04-29 00:00:01 2024-04-29 00:00:37     True   \n",
       "3402  24.66  Unavailable 2024-04-30 00:00:01 2024-04-30 00:49:00     True   \n",
       "\n",
       "      homeStationStart  homeStationEnd  \n",
       "0                 True            True  \n",
       "1                 True            True  \n",
       "2                 True            True  \n",
       "3                 True            True  \n",
       "4                 True            True  \n",
       "...                ...             ...  \n",
       "2801              True            True  \n",
       "5088              True            True  \n",
       "1104              True            True  \n",
       "1818              True            True  \n",
       "3402              True            True  \n",
       "\n",
       "[5178 rows x 17 columns]"
      ]
     },
     "execution_count": 275,
     "metadata": {},
     "output_type": "execute_result"
    }
   ],
   "source": [
    "sorted_df"
   ]
  },
  {
   "cell_type": "code",
   "execution_count": null,
   "metadata": {},
   "outputs": [],
   "source": []
  },
  {
   "cell_type": "code",
   "execution_count": null,
   "metadata": {},
   "outputs": [],
   "source": []
  },
  {
   "cell_type": "code",
   "execution_count": 276,
   "metadata": {},
   "outputs": [],
   "source": [
    "file_path = data_path +'1 Team & Station Trip Level Data - April 2024 - Randomised Updated.csv'\n",
    "sorted_df.to_csv(file_path)\n"
   ]
  },
  {
   "cell_type": "code",
   "execution_count": null,
   "metadata": {},
   "outputs": [],
   "source": []
  }
 ],
 "metadata": {
  "application/vnd.databricks.v1+notebook": {
   "dashboards": [],
   "language": "python",
   "notebookMetadata": {
    "pythonIndentUnit": 2
   },
   "notebookName": "DSA - RTA",
   "notebookOrigID": 1076242557819948,
   "widgets": {}
  },
  "kernelspec": {
   "display_name": "Python 3 (ipykernel)",
   "language": "python",
   "name": "python3"
  },
  "language_info": {
   "codemirror_mode": {
    "name": "ipython",
    "version": 3
   },
   "file_extension": ".py",
   "mimetype": "text/x-python",
   "name": "python",
   "nbconvert_exporter": "python",
   "pygments_lexer": "ipython3",
   "version": "3.7.13"
  }
 },
 "nbformat": 4,
 "nbformat_minor": 1
}
