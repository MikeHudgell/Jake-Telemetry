{
 "cells": [
  {
   "cell_type": "code",
   "execution_count": 57,
   "id": "79ac1901",
   "metadata": {},
   "outputs": [
    {
     "name": "stdout",
     "output_type": "stream",
     "text": [
      "Python version 3.7.13 (default, Mar 28 2022, 08:03:21) [MSC v.1916 64 bit (AMD64)]\n",
      "Version info. sys.version_info(major=3, minor=7, micro=13, releaselevel='final', serial=0) C:\\Anaconda3\\envs\\geo37\\python.exe\n"
     ]
    }
   ],
   "source": [
    "#\n",
    "# Libraries\n",
    "#\n",
    "import datetime\n",
    "import dateutil.relativedelta\n",
    "import os\n",
    "import geopandas as gpd\n",
    "import numpy as np\n",
    "import pandas as pd\n",
    "import time\n",
    "import matplotlib.pylab as plt\n",
    "#from sentinelsat import SentinelAPI, read_geojson, geojson_to_wkt\n",
    "from shapely import geometry\n",
    "from shapely.geometry import Point, Polygon, LineString\n",
    "import shapely.wkt\n",
    "from geopandas.tools import sjoin\n",
    "import sys\n",
    "print(\"Python version\", sys.version)\n",
    "print (\"Version info.\", sys.version_info, sys.executable)\n",
    "from datetime import datetime\n",
    "import zipfile\n",
    "import shutil\n",
    "import rasterio\n",
    "from rasterio.plot import show\n",
    "from matplotlib import pyplot\n",
    "import pycrs\n",
    "from skimage import filters\n",
    "from skimage import exposure\n",
    "from skimage.feature import greycomatrix, greycoprops\n",
    "from skimage import data\n",
    "from osgeo import ogr\n",
    "from osgeo import gdal\n",
    "import plotly\n",
    "import requests\n",
    "import skimage\n",
    "import seaborn as sns\n",
    "from sklearn.model_selection import train_test_split\n",
    "from sklearn.ensemble import RandomForestRegressor, RandomForestClassifier\n",
    "from mpl_toolkits import mplot3d\n",
    "\n",
    "from sklearn import metrics\n",
    "from sklearn.metrics import confusion_matrix\n",
    "from sklearn.metrics import plot_confusion_matrix\n",
    "from sklearn.metrics import confusion_matrix, plot_confusion_matrix\n",
    "from sklearn.metrics import classification_report"
   ]
  },
  {
   "cell_type": "code",
   "execution_count": 3,
   "id": "6b3233a4",
   "metadata": {},
   "outputs": [
    {
     "data": {
      "application/javascript": [
       "IPython.OutputArea.prototype._should_scroll = function(lines) {\n",
       "    return false;\n",
       "}\n"
      ],
      "text/plain": [
       "<IPython.core.display.Javascript object>"
      ]
     },
     "metadata": {},
     "output_type": "display_data"
    }
   ],
   "source": [
    "%%javascript\n",
    "IPython.OutputArea.prototype._should_scroll = function(lines) {\n",
    "    return false;\n",
    "}"
   ]
  },
  {
   "cell_type": "code",
   "execution_count": 4,
   "id": "a69923c6",
   "metadata": {},
   "outputs": [],
   "source": [
    "data_path = 'C:/Users/mhudgell/data/dsa-jake/'\n",
    "os.listdir(data_path)\n",
    "file_path = data_path +'1 Team & Station Trip Level Data - April 2024 - Randomised.csv'\n",
    "trip = pd.read_csv(file_path)"
   ]
  },
  {
   "cell_type": "code",
   "execution_count": 29,
   "id": "9d3e39e3",
   "metadata": {},
   "outputs": [],
   "source": [
    "real_trip = trip[(trip['Hours'] >= 0.0)] #0.4\n",
    "real_trip['end_ts']  = pd.to_datetime(real_trip['Date'] + ' ' + real_trip['Time - End'])\n",
    "real_trip['start_ts']  = pd.to_datetime(real_trip['Date'] + ' ' + real_trip['Time - Start'])\n",
    "real_trip['dow'] = real_trip['end_ts'].dt.weekday\n",
    "real_trip['label'] = real_trip['end_ts'].dt.hour\n",
    "real_trip['start_hour'] = real_trip['start_ts'].dt.hour\n",
    "real_trip['start_min'] = real_trip['start_ts'].dt.minute\n"
   ]
  },
  {
   "cell_type": "code",
   "execution_count": 30,
   "id": "71489d30",
   "metadata": {},
   "outputs": [
    {
     "data": {
      "text/html": [
       "<div>\n",
       "<style scoped>\n",
       "    .dataframe tbody tr th:only-of-type {\n",
       "        vertical-align: middle;\n",
       "    }\n",
       "\n",
       "    .dataframe tbody tr th {\n",
       "        vertical-align: top;\n",
       "    }\n",
       "\n",
       "    .dataframe thead th {\n",
       "        text-align: right;\n",
       "    }\n",
       "</style>\n",
       "<table border=\"1\" class=\"dataframe\">\n",
       "  <thead>\n",
       "    <tr style=\"text-align: right;\">\n",
       "      <th></th>\n",
       "      <th>Registration</th>\n",
       "      <th>Fleet</th>\n",
       "      <th>Vehicle Function</th>\n",
       "      <th>Station</th>\n",
       "      <th>Date</th>\n",
       "      <th>Time - Start</th>\n",
       "      <th>Time - End</th>\n",
       "      <th>Trip Count</th>\n",
       "      <th>Miles Travelled</th>\n",
       "      <th>Hours</th>\n",
       "      <th>Speed</th>\n",
       "      <th>end_ts</th>\n",
       "      <th>start_ts</th>\n",
       "      <th>dow</th>\n",
       "      <th>label</th>\n",
       "      <th>start_hour</th>\n",
       "      <th>start_min</th>\n",
       "    </tr>\n",
       "  </thead>\n",
       "  <tbody>\n",
       "    <tr>\n",
       "      <th>0</th>\n",
       "      <td>111111</td>\n",
       "      <td>South Worcestershire</td>\n",
       "      <td>PATROL</td>\n",
       "      <td>WORCESTER</td>\n",
       "      <td>01-Apr-24</td>\n",
       "      <td>00:36:19</td>\n",
       "      <td>01:16:04</td>\n",
       "      <td>1</td>\n",
       "      <td>2.49</td>\n",
       "      <td>0.66</td>\n",
       "      <td>3.77</td>\n",
       "      <td>2024-04-01 01:16:04</td>\n",
       "      <td>2024-04-01 00:36:19</td>\n",
       "      <td>0</td>\n",
       "      <td>1</td>\n",
       "      <td>0</td>\n",
       "      <td>36</td>\n",
       "    </tr>\n",
       "    <tr>\n",
       "      <th>1</th>\n",
       "      <td>111111</td>\n",
       "      <td>South Worcestershire</td>\n",
       "      <td>PATROL</td>\n",
       "      <td>WORCESTER</td>\n",
       "      <td>01-Apr-24</td>\n",
       "      <td>02:23:22</td>\n",
       "      <td>02:30:37</td>\n",
       "      <td>1</td>\n",
       "      <td>2.30</td>\n",
       "      <td>0.12</td>\n",
       "      <td>19.17</td>\n",
       "      <td>2024-04-01 02:30:37</td>\n",
       "      <td>2024-04-01 02:23:22</td>\n",
       "      <td>0</td>\n",
       "      <td>2</td>\n",
       "      <td>2</td>\n",
       "      <td>23</td>\n",
       "    </tr>\n",
       "    <tr>\n",
       "      <th>2</th>\n",
       "      <td>111111</td>\n",
       "      <td>South Worcestershire</td>\n",
       "      <td>PATROL</td>\n",
       "      <td>WORCESTER</td>\n",
       "      <td>01-Apr-24</td>\n",
       "      <td>03:24:11</td>\n",
       "      <td>03:32:05</td>\n",
       "      <td>1</td>\n",
       "      <td>2.24</td>\n",
       "      <td>0.13</td>\n",
       "      <td>17.23</td>\n",
       "      <td>2024-04-01 03:32:05</td>\n",
       "      <td>2024-04-01 03:24:11</td>\n",
       "      <td>0</td>\n",
       "      <td>3</td>\n",
       "      <td>3</td>\n",
       "      <td>24</td>\n",
       "    </tr>\n",
       "    <tr>\n",
       "      <th>3</th>\n",
       "      <td>111111</td>\n",
       "      <td>South Worcestershire</td>\n",
       "      <td>PATROL</td>\n",
       "      <td>WORCESTER</td>\n",
       "      <td>01-Apr-24</td>\n",
       "      <td>03:48:21</td>\n",
       "      <td>03:54:24</td>\n",
       "      <td>1</td>\n",
       "      <td>1.93</td>\n",
       "      <td>0.10</td>\n",
       "      <td>19.30</td>\n",
       "      <td>2024-04-01 03:54:24</td>\n",
       "      <td>2024-04-01 03:48:21</td>\n",
       "      <td>0</td>\n",
       "      <td>3</td>\n",
       "      <td>3</td>\n",
       "      <td>48</td>\n",
       "    </tr>\n",
       "    <tr>\n",
       "      <th>4</th>\n",
       "      <td>111111</td>\n",
       "      <td>South Worcestershire</td>\n",
       "      <td>PATROL</td>\n",
       "      <td>WORCESTER</td>\n",
       "      <td>01-Apr-24</td>\n",
       "      <td>03:59:36</td>\n",
       "      <td>05:46:48</td>\n",
       "      <td>1</td>\n",
       "      <td>37.97</td>\n",
       "      <td>1.79</td>\n",
       "      <td>21.21</td>\n",
       "      <td>2024-04-01 05:46:48</td>\n",
       "      <td>2024-04-01 03:59:36</td>\n",
       "      <td>0</td>\n",
       "      <td>5</td>\n",
       "      <td>3</td>\n",
       "      <td>59</td>\n",
       "    </tr>\n",
       "    <tr>\n",
       "      <th>5</th>\n",
       "      <td>111111</td>\n",
       "      <td>South Worcestershire</td>\n",
       "      <td>PATROL</td>\n",
       "      <td>WORCESTER</td>\n",
       "      <td>01-Apr-24</td>\n",
       "      <td>10:02:54</td>\n",
       "      <td>10:12:15</td>\n",
       "      <td>1</td>\n",
       "      <td>2.11</td>\n",
       "      <td>0.16</td>\n",
       "      <td>13.19</td>\n",
       "      <td>2024-04-01 10:12:15</td>\n",
       "      <td>2024-04-01 10:02:54</td>\n",
       "      <td>0</td>\n",
       "      <td>10</td>\n",
       "      <td>10</td>\n",
       "      <td>2</td>\n",
       "    </tr>\n",
       "    <tr>\n",
       "      <th>6</th>\n",
       "      <td>111111</td>\n",
       "      <td>South Worcestershire</td>\n",
       "      <td>PATROL</td>\n",
       "      <td>WORCESTER</td>\n",
       "      <td>01-Apr-24</td>\n",
       "      <td>10:27:19</td>\n",
       "      <td>10:52:46</td>\n",
       "      <td>1</td>\n",
       "      <td>8.14</td>\n",
       "      <td>0.42</td>\n",
       "      <td>19.38</td>\n",
       "      <td>2024-04-01 10:52:46</td>\n",
       "      <td>2024-04-01 10:27:19</td>\n",
       "      <td>0</td>\n",
       "      <td>10</td>\n",
       "      <td>10</td>\n",
       "      <td>27</td>\n",
       "    </tr>\n",
       "    <tr>\n",
       "      <th>7</th>\n",
       "      <td>111111</td>\n",
       "      <td>South Worcestershire</td>\n",
       "      <td>PATROL</td>\n",
       "      <td>WORCESTER</td>\n",
       "      <td>01-Apr-24</td>\n",
       "      <td>11:12:26</td>\n",
       "      <td>11:17:59</td>\n",
       "      <td>1</td>\n",
       "      <td>1.43</td>\n",
       "      <td>0.09</td>\n",
       "      <td>15.89</td>\n",
       "      <td>2024-04-01 11:17:59</td>\n",
       "      <td>2024-04-01 11:12:26</td>\n",
       "      <td>0</td>\n",
       "      <td>11</td>\n",
       "      <td>11</td>\n",
       "      <td>12</td>\n",
       "    </tr>\n",
       "    <tr>\n",
       "      <th>8</th>\n",
       "      <td>111111</td>\n",
       "      <td>South Worcestershire</td>\n",
       "      <td>PATROL</td>\n",
       "      <td>WORCESTER</td>\n",
       "      <td>01-Apr-24</td>\n",
       "      <td>11:33:57</td>\n",
       "      <td>11:53:06</td>\n",
       "      <td>1</td>\n",
       "      <td>5.66</td>\n",
       "      <td>0.32</td>\n",
       "      <td>17.69</td>\n",
       "      <td>2024-04-01 11:53:06</td>\n",
       "      <td>2024-04-01 11:33:57</td>\n",
       "      <td>0</td>\n",
       "      <td>11</td>\n",
       "      <td>11</td>\n",
       "      <td>33</td>\n",
       "    </tr>\n",
       "    <tr>\n",
       "      <th>9</th>\n",
       "      <td>111111</td>\n",
       "      <td>South Worcestershire</td>\n",
       "      <td>PATROL</td>\n",
       "      <td>WORCESTER</td>\n",
       "      <td>01-Apr-24</td>\n",
       "      <td>12:30:13</td>\n",
       "      <td>12:32:25</td>\n",
       "      <td>1</td>\n",
       "      <td>0.68</td>\n",
       "      <td>0.04</td>\n",
       "      <td>17.00</td>\n",
       "      <td>2024-04-01 12:32:25</td>\n",
       "      <td>2024-04-01 12:30:13</td>\n",
       "      <td>0</td>\n",
       "      <td>12</td>\n",
       "      <td>12</td>\n",
       "      <td>30</td>\n",
       "    </tr>\n",
       "  </tbody>\n",
       "</table>\n",
       "</div>"
      ],
      "text/plain": [
       "  Registration                 Fleet Vehicle Function    Station       Date  \\\n",
       "0       111111  South Worcestershire           PATROL  WORCESTER  01-Apr-24   \n",
       "1       111111  South Worcestershire           PATROL  WORCESTER  01-Apr-24   \n",
       "2       111111  South Worcestershire           PATROL  WORCESTER  01-Apr-24   \n",
       "3       111111  South Worcestershire           PATROL  WORCESTER  01-Apr-24   \n",
       "4       111111  South Worcestershire           PATROL  WORCESTER  01-Apr-24   \n",
       "5       111111  South Worcestershire           PATROL  WORCESTER  01-Apr-24   \n",
       "6       111111  South Worcestershire           PATROL  WORCESTER  01-Apr-24   \n",
       "7       111111  South Worcestershire           PATROL  WORCESTER  01-Apr-24   \n",
       "8       111111  South Worcestershire           PATROL  WORCESTER  01-Apr-24   \n",
       "9       111111  South Worcestershire           PATROL  WORCESTER  01-Apr-24   \n",
       "\n",
       "  Time - Start Time - End  Trip Count  Miles Travelled  Hours  Speed  \\\n",
       "0     00:36:19   01:16:04           1             2.49   0.66   3.77   \n",
       "1     02:23:22   02:30:37           1             2.30   0.12  19.17   \n",
       "2     03:24:11   03:32:05           1             2.24   0.13  17.23   \n",
       "3     03:48:21   03:54:24           1             1.93   0.10  19.30   \n",
       "4     03:59:36   05:46:48           1            37.97   1.79  21.21   \n",
       "5     10:02:54   10:12:15           1             2.11   0.16  13.19   \n",
       "6     10:27:19   10:52:46           1             8.14   0.42  19.38   \n",
       "7     11:12:26   11:17:59           1             1.43   0.09  15.89   \n",
       "8     11:33:57   11:53:06           1             5.66   0.32  17.69   \n",
       "9     12:30:13   12:32:25           1             0.68   0.04  17.00   \n",
       "\n",
       "               end_ts            start_ts  dow  label  start_hour  start_min  \n",
       "0 2024-04-01 01:16:04 2024-04-01 00:36:19    0      1           0         36  \n",
       "1 2024-04-01 02:30:37 2024-04-01 02:23:22    0      2           2         23  \n",
       "2 2024-04-01 03:32:05 2024-04-01 03:24:11    0      3           3         24  \n",
       "3 2024-04-01 03:54:24 2024-04-01 03:48:21    0      3           3         48  \n",
       "4 2024-04-01 05:46:48 2024-04-01 03:59:36    0      5           3         59  \n",
       "5 2024-04-01 10:12:15 2024-04-01 10:02:54    0     10          10          2  \n",
       "6 2024-04-01 10:52:46 2024-04-01 10:27:19    0     10          10         27  \n",
       "7 2024-04-01 11:17:59 2024-04-01 11:12:26    0     11          11         12  \n",
       "8 2024-04-01 11:53:06 2024-04-01 11:33:57    0     11          11         33  \n",
       "9 2024-04-01 12:32:25 2024-04-01 12:30:13    0     12          12         30  "
      ]
     },
     "execution_count": 30,
     "metadata": {},
     "output_type": "execute_result"
    }
   ],
   "source": [
    "real_trip.head(10)"
   ]
  },
  {
   "cell_type": "code",
   "execution_count": 35,
   "id": "f1f1fb32",
   "metadata": {},
   "outputs": [],
   "source": [
    "data_df = real_trip[['Registration', 'Fleet', 'Vehicle Function', 'Station', 'Date', 'start_ts', 'dow', 'start_hour', 'start_min', 'label']]"
   ]
  },
  {
   "cell_type": "code",
   "execution_count": 36,
   "id": "711807ab",
   "metadata": {},
   "outputs": [
    {
     "data": {
      "text/html": [
       "<div>\n",
       "<style scoped>\n",
       "    .dataframe tbody tr th:only-of-type {\n",
       "        vertical-align: middle;\n",
       "    }\n",
       "\n",
       "    .dataframe tbody tr th {\n",
       "        vertical-align: top;\n",
       "    }\n",
       "\n",
       "    .dataframe thead th {\n",
       "        text-align: right;\n",
       "    }\n",
       "</style>\n",
       "<table border=\"1\" class=\"dataframe\">\n",
       "  <thead>\n",
       "    <tr style=\"text-align: right;\">\n",
       "      <th></th>\n",
       "      <th>Registration</th>\n",
       "      <th>Fleet</th>\n",
       "      <th>Vehicle Function</th>\n",
       "      <th>Station</th>\n",
       "      <th>Date</th>\n",
       "      <th>start_ts</th>\n",
       "      <th>dow</th>\n",
       "      <th>start_hour</th>\n",
       "      <th>start_min</th>\n",
       "      <th>label</th>\n",
       "    </tr>\n",
       "  </thead>\n",
       "  <tbody>\n",
       "    <tr>\n",
       "      <th>0</th>\n",
       "      <td>111111</td>\n",
       "      <td>South Worcestershire</td>\n",
       "      <td>PATROL</td>\n",
       "      <td>WORCESTER</td>\n",
       "      <td>01-Apr-24</td>\n",
       "      <td>2024-04-01 00:36:19</td>\n",
       "      <td>0</td>\n",
       "      <td>0</td>\n",
       "      <td>36</td>\n",
       "      <td>1</td>\n",
       "    </tr>\n",
       "    <tr>\n",
       "      <th>1</th>\n",
       "      <td>111111</td>\n",
       "      <td>South Worcestershire</td>\n",
       "      <td>PATROL</td>\n",
       "      <td>WORCESTER</td>\n",
       "      <td>01-Apr-24</td>\n",
       "      <td>2024-04-01 02:23:22</td>\n",
       "      <td>0</td>\n",
       "      <td>2</td>\n",
       "      <td>23</td>\n",
       "      <td>2</td>\n",
       "    </tr>\n",
       "    <tr>\n",
       "      <th>2</th>\n",
       "      <td>111111</td>\n",
       "      <td>South Worcestershire</td>\n",
       "      <td>PATROL</td>\n",
       "      <td>WORCESTER</td>\n",
       "      <td>01-Apr-24</td>\n",
       "      <td>2024-04-01 03:24:11</td>\n",
       "      <td>0</td>\n",
       "      <td>3</td>\n",
       "      <td>24</td>\n",
       "      <td>3</td>\n",
       "    </tr>\n",
       "    <tr>\n",
       "      <th>3</th>\n",
       "      <td>111111</td>\n",
       "      <td>South Worcestershire</td>\n",
       "      <td>PATROL</td>\n",
       "      <td>WORCESTER</td>\n",
       "      <td>01-Apr-24</td>\n",
       "      <td>2024-04-01 03:48:21</td>\n",
       "      <td>0</td>\n",
       "      <td>3</td>\n",
       "      <td>48</td>\n",
       "      <td>3</td>\n",
       "    </tr>\n",
       "    <tr>\n",
       "      <th>4</th>\n",
       "      <td>111111</td>\n",
       "      <td>South Worcestershire</td>\n",
       "      <td>PATROL</td>\n",
       "      <td>WORCESTER</td>\n",
       "      <td>01-Apr-24</td>\n",
       "      <td>2024-04-01 03:59:36</td>\n",
       "      <td>0</td>\n",
       "      <td>3</td>\n",
       "      <td>59</td>\n",
       "      <td>5</td>\n",
       "    </tr>\n",
       "    <tr>\n",
       "      <th>5</th>\n",
       "      <td>111111</td>\n",
       "      <td>South Worcestershire</td>\n",
       "      <td>PATROL</td>\n",
       "      <td>WORCESTER</td>\n",
       "      <td>01-Apr-24</td>\n",
       "      <td>2024-04-01 10:02:54</td>\n",
       "      <td>0</td>\n",
       "      <td>10</td>\n",
       "      <td>2</td>\n",
       "      <td>10</td>\n",
       "    </tr>\n",
       "    <tr>\n",
       "      <th>6</th>\n",
       "      <td>111111</td>\n",
       "      <td>South Worcestershire</td>\n",
       "      <td>PATROL</td>\n",
       "      <td>WORCESTER</td>\n",
       "      <td>01-Apr-24</td>\n",
       "      <td>2024-04-01 10:27:19</td>\n",
       "      <td>0</td>\n",
       "      <td>10</td>\n",
       "      <td>27</td>\n",
       "      <td>10</td>\n",
       "    </tr>\n",
       "    <tr>\n",
       "      <th>7</th>\n",
       "      <td>111111</td>\n",
       "      <td>South Worcestershire</td>\n",
       "      <td>PATROL</td>\n",
       "      <td>WORCESTER</td>\n",
       "      <td>01-Apr-24</td>\n",
       "      <td>2024-04-01 11:12:26</td>\n",
       "      <td>0</td>\n",
       "      <td>11</td>\n",
       "      <td>12</td>\n",
       "      <td>11</td>\n",
       "    </tr>\n",
       "    <tr>\n",
       "      <th>8</th>\n",
       "      <td>111111</td>\n",
       "      <td>South Worcestershire</td>\n",
       "      <td>PATROL</td>\n",
       "      <td>WORCESTER</td>\n",
       "      <td>01-Apr-24</td>\n",
       "      <td>2024-04-01 11:33:57</td>\n",
       "      <td>0</td>\n",
       "      <td>11</td>\n",
       "      <td>33</td>\n",
       "      <td>11</td>\n",
       "    </tr>\n",
       "    <tr>\n",
       "      <th>9</th>\n",
       "      <td>111111</td>\n",
       "      <td>South Worcestershire</td>\n",
       "      <td>PATROL</td>\n",
       "      <td>WORCESTER</td>\n",
       "      <td>01-Apr-24</td>\n",
       "      <td>2024-04-01 12:30:13</td>\n",
       "      <td>0</td>\n",
       "      <td>12</td>\n",
       "      <td>30</td>\n",
       "      <td>12</td>\n",
       "    </tr>\n",
       "  </tbody>\n",
       "</table>\n",
       "</div>"
      ],
      "text/plain": [
       "  Registration                 Fleet Vehicle Function    Station       Date  \\\n",
       "0       111111  South Worcestershire           PATROL  WORCESTER  01-Apr-24   \n",
       "1       111111  South Worcestershire           PATROL  WORCESTER  01-Apr-24   \n",
       "2       111111  South Worcestershire           PATROL  WORCESTER  01-Apr-24   \n",
       "3       111111  South Worcestershire           PATROL  WORCESTER  01-Apr-24   \n",
       "4       111111  South Worcestershire           PATROL  WORCESTER  01-Apr-24   \n",
       "5       111111  South Worcestershire           PATROL  WORCESTER  01-Apr-24   \n",
       "6       111111  South Worcestershire           PATROL  WORCESTER  01-Apr-24   \n",
       "7       111111  South Worcestershire           PATROL  WORCESTER  01-Apr-24   \n",
       "8       111111  South Worcestershire           PATROL  WORCESTER  01-Apr-24   \n",
       "9       111111  South Worcestershire           PATROL  WORCESTER  01-Apr-24   \n",
       "\n",
       "             start_ts  dow  start_hour  start_min  label  \n",
       "0 2024-04-01 00:36:19    0           0         36      1  \n",
       "1 2024-04-01 02:23:22    0           2         23      2  \n",
       "2 2024-04-01 03:24:11    0           3         24      3  \n",
       "3 2024-04-01 03:48:21    0           3         48      3  \n",
       "4 2024-04-01 03:59:36    0           3         59      5  \n",
       "5 2024-04-01 10:02:54    0          10          2     10  \n",
       "6 2024-04-01 10:27:19    0          10         27     10  \n",
       "7 2024-04-01 11:12:26    0          11         12     11  \n",
       "8 2024-04-01 11:33:57    0          11         33     11  \n",
       "9 2024-04-01 12:30:13    0          12         30     12  "
      ]
     },
     "execution_count": 36,
     "metadata": {},
     "output_type": "execute_result"
    }
   ],
   "source": [
    "data_df.head(10)"
   ]
  },
  {
   "cell_type": "code",
   "execution_count": 37,
   "id": "80eaadcd",
   "metadata": {},
   "outputs": [],
   "source": [
    "one_hot_encoded_data = pd.get_dummies(data_df, columns = ['Registration', 'Fleet', 'Vehicle Function', 'Station'])\n",
    "                    \n"
   ]
  },
  {
   "cell_type": "code",
   "execution_count": 38,
   "id": "345c0713",
   "metadata": {},
   "outputs": [
    {
     "data": {
      "text/plain": [
       "['Date',\n",
       " 'start_ts',\n",
       " 'dow',\n",
       " 'start_hour',\n",
       " 'start_min',\n",
       " 'label',\n",
       " 'Registration_111111',\n",
       " 'Registration_222222',\n",
       " 'Registration_333333',\n",
       " 'Registration_444444',\n",
       " 'Registration_555555',\n",
       " 'Registration_666666',\n",
       " 'Registration_777777',\n",
       " 'Registration_888888',\n",
       " 'Registration_999999',\n",
       " 'Registration_AAAAAA',\n",
       " 'Registration_BBBBBB',\n",
       " 'Registration_CCCCCC',\n",
       " 'Registration_DDDDDD',\n",
       " 'Registration_EEEEEE',\n",
       " 'Registration_FFFFFF',\n",
       " 'Fleet_South Worcestershire',\n",
       " 'Vehicle Function_PATROL',\n",
       " 'Station_WORCESTER']"
      ]
     },
     "execution_count": 38,
     "metadata": {},
     "output_type": "execute_result"
    }
   ],
   "source": [
    "list(one_hot_encoded_data.columns)"
   ]
  },
  {
   "cell_type": "code",
   "execution_count": 39,
   "id": "bc1ff103",
   "metadata": {},
   "outputs": [],
   "source": [
    "features_of_interest = ['start_hour', 'start_min', 'dow', 'Registration_111111', 'Registration_222222','Registration_333333', 'Registration_444444', \n",
    "                        'Registration_555555', 'Registration_666666', 'Registration_777777', 'Registration_888888', 'Registration_999999', \n",
    "                        'Registration_AAAAAA', 'Registration_BBBBBB', 'Registration_CCCCCC', 'Registration_DDDDDD', 'Registration_EEEEEE', \n",
    "                        'Fleet_South Worcestershire', 'Vehicle Function_PATROL', 'Station_WORCESTER']"
   ]
  },
  {
   "cell_type": "code",
   "execution_count": 40,
   "id": "af603a99",
   "metadata": {},
   "outputs": [
    {
     "name": "stdout",
     "output_type": "stream",
     "text": [
      "(5108,)\n",
      "(5108, 20)\n"
     ]
    }
   ],
   "source": [
    "feature_df = one_hot_encoded_data[features_of_interest].copy()\n",
    "label_df = one_hot_encoded_data['label'].copy()\n",
    "features = feature_df.to_numpy()\n",
    "labels = label_df.to_numpy()\n",
    "print(labels.shape)\n",
    "print(features.shape)"
   ]
  },
  {
   "cell_type": "code",
   "execution_count": 41,
   "id": "22df15ce",
   "metadata": {},
   "outputs": [
    {
     "data": {
      "text/plain": [
       "<AxesSubplot:>"
      ]
     },
     "execution_count": 41,
     "metadata": {},
     "output_type": "execute_result"
    },
    {
     "data": {
      "image/png": "[encoded data removed]",
      "text/plain": [
       "<Figure size 432x288 with 1 Axes>"
      ]
     },
     "metadata": {
      "needs_background": "light"
     },
     "output_type": "display_data"
    }
   ],
   "source": [
    "label_df.hist()"
   ]
  },
  {
   "cell_type": "code",
   "execution_count": 42,
   "id": "73606a8c",
   "metadata": {},
   "outputs": [],
   "source": [
    "x_train, x_test, y_train, y_test = train_test_split(features, labels, test_size=0.25, shuffle=True, stratify=None)"
   ]
  },
  {
   "cell_type": "code",
   "execution_count": 43,
   "id": "5459c0a7",
   "metadata": {},
   "outputs": [
    {
     "name": "stdout",
     "output_type": "stream",
     "text": [
      "(3831, 20)\n",
      "(1277, 20)\n",
      "(3831,)\n",
      "(1277,)\n"
     ]
    }
   ],
   "source": [
    "print(x_train.shape)\n",
    "print(x_test.shape)\n",
    "print(y_train.shape)\n",
    "print(y_test.shape)"
   ]
  },
  {
   "cell_type": "code",
   "execution_count": 44,
   "id": "c7e6d9a8",
   "metadata": {},
   "outputs": [
    {
     "name": "stderr",
     "output_type": "stream",
     "text": [
      "[Parallel(n_jobs=4)]: Using backend ThreadingBackend with 4 concurrent workers.\n",
      "[Parallel(n_jobs=4)]: Done  42 tasks      | elapsed:    0.0s\n",
      "[Parallel(n_jobs=4)]: Done 192 tasks      | elapsed:    0.3s\n",
      "[Parallel(n_jobs=4)]: Done 442 tasks      | elapsed:    0.9s\n",
      "[Parallel(n_jobs=4)]: Done 792 tasks      | elapsed:    1.6s\n",
      "[Parallel(n_jobs=4)]: Done 1000 out of 1000 | elapsed:    2.0s finished\n"
     ]
    },
    {
     "data": {
      "text/plain": [
       "RandomForestClassifier(bootstrap=False, n_estimators=1000, n_jobs=4, verbose=1)"
      ]
     },
     "execution_count": 44,
     "metadata": {},
     "output_type": "execute_result"
    }
   ],
   "source": [
    "RF_Model = RandomForestClassifier(n_estimators=1000, verbose=1, bootstrap=False, n_jobs=4)#, random_state = 21)\n",
    "RF_Model.fit(x_train, y_train)"
   ]
  },
  {
   "cell_type": "code",
   "execution_count": 45,
   "id": "1ddbd07d",
   "metadata": {},
   "outputs": [
    {
     "name": "stderr",
     "output_type": "stream",
     "text": [
      "[Parallel(n_jobs=4)]: Using backend ThreadingBackend with 4 concurrent workers.\n",
      "[Parallel(n_jobs=4)]: Done  42 tasks      | elapsed:    0.0s\n",
      "[Parallel(n_jobs=4)]: Done 192 tasks      | elapsed:    0.0s\n",
      "[Parallel(n_jobs=4)]: Done 442 tasks      | elapsed:    0.0s\n",
      "[Parallel(n_jobs=4)]: Done 792 tasks      | elapsed:    0.1s\n",
      "[Parallel(n_jobs=4)]: Done 1000 out of 1000 | elapsed:    0.1s finished\n"
     ]
    }
   ],
   "source": [
    "y_predict = RF_Model.predict(x_test)"
   ]
  },
  {
   "cell_type": "code",
   "execution_count": 46,
   "id": "88ab3334",
   "metadata": {},
   "outputs": [
    {
     "name": "stderr",
     "output_type": "stream",
     "text": [
      "[Parallel(n_jobs=4)]: Using backend ThreadingBackend with 4 concurrent workers.\n",
      "[Parallel(n_jobs=4)]: Done  42 tasks      | elapsed:    0.0s\n",
      "[Parallel(n_jobs=4)]: Done 192 tasks      | elapsed:    0.0s\n",
      "[Parallel(n_jobs=4)]: Done 442 tasks      | elapsed:    0.0s\n",
      "[Parallel(n_jobs=4)]: Done 792 tasks      | elapsed:    0.1s\n",
      "[Parallel(n_jobs=4)]: Done 1000 out of 1000 | elapsed:    0.1s finished\n"
     ]
    },
    {
     "data": {
      "text/plain": [
       "0.6296006264682851"
      ]
     },
     "execution_count": 46,
     "metadata": {},
     "output_type": "execute_result"
    }
   ],
   "source": [
    "RF_Model.score(x_test, y_test)"
   ]
  },
  {
   "cell_type": "code",
   "execution_count": 47,
   "id": "55027b27",
   "metadata": {},
   "outputs": [
    {
     "name": "stdout",
     "output_type": "stream",
     "text": [
      "[0.58638897 0.25962887 0.08048476 0.00622186 0.00484143 0.00199185\n",
      " 0.00613671 0.00312636 0.0073251  0.0042002  0.00255808 0.00659528\n",
      " 0.00611582 0.00683488 0.00625439 0.004397   0.00689845 0.\n",
      " 0.         0.        ]\n"
     ]
    }
   ],
   "source": [
    "print(RF_Model.feature_importances_)"
   ]
  },
  {
   "cell_type": "code",
   "execution_count": 50,
   "id": "cdf82670",
   "metadata": {},
   "outputs": [
    {
     "name": "stdout",
     "output_type": "stream",
     "text": [
      "[[0.56603774 0.18867925 0.         0.         0.         0.\n",
      "  0.         0.         0.         0.         0.         0.\n",
      "  0.         0.         0.         0.         0.         0.\n",
      "  0.         0.         0.01886792 0.         0.05660377 0.16981132]\n",
      " [0.22222222 0.62962963 0.12962963 0.01851852 0.         0.\n",
      "  0.         0.         0.         0.         0.         0.\n",
      "  0.         0.         0.         0.         0.         0.\n",
      "  0.         0.         0.         0.         0.         0.        ]\n",
      " [0.04       0.18       0.54       0.14       0.06       0.04\n",
      "  0.         0.         0.         0.         0.         0.\n",
      "  0.         0.         0.         0.         0.         0.\n",
      "  0.         0.         0.         0.         0.         0.        ]\n",
      " [0.         0.09803922 0.19607843 0.43137255 0.19607843 0.05882353\n",
      "  0.         0.         0.         0.         0.         0.\n",
      "  0.         0.         0.         0.         0.         0.\n",
      "  0.         0.         0.         0.         0.         0.01960784]\n",
      " [0.02941176 0.         0.11764706 0.29411765 0.29411765 0.11764706\n",
      "  0.08823529 0.         0.02941176 0.02941176 0.         0.\n",
      "  0.         0.         0.         0.         0.         0.\n",
      "  0.         0.         0.         0.         0.         0.        ]\n",
      " [0.         0.         0.08571429 0.11428571 0.25714286 0.37142857\n",
      "  0.05714286 0.05714286 0.         0.02857143 0.02857143 0.\n",
      "  0.         0.         0.         0.         0.         0.\n",
      "  0.         0.         0.         0.         0.         0.        ]\n",
      " [0.         0.         0.         0.13636364 0.09090909 0.31818182\n",
      "  0.22727273 0.18181818 0.04545455 0.         0.         0.\n",
      "  0.         0.         0.         0.         0.         0.\n",
      "  0.         0.         0.         0.         0.         0.        ]\n",
      " [0.         0.03030303 0.         0.03030303 0.09090909 0.12121212\n",
      "  0.03030303 0.12121212 0.36363636 0.12121212 0.06060606 0.\n",
      "  0.         0.         0.         0.         0.         0.\n",
      "  0.         0.         0.         0.         0.03030303 0.        ]\n",
      " [0.         0.         0.         0.02777778 0.         0.\n",
      "  0.         0.13888889 0.5        0.19444444 0.08333333 0.02777778\n",
      "  0.         0.02777778 0.         0.         0.         0.\n",
      "  0.         0.         0.         0.         0.         0.        ]\n",
      " [0.         0.         0.         0.01818182 0.         0.\n",
      "  0.         0.01818182 0.12727273 0.6        0.2        0.\n",
      "  0.01818182 0.01818182 0.         0.         0.         0.\n",
      "  0.         0.         0.         0.         0.         0.        ]\n",
      " [0.         0.         0.         0.01428571 0.         0.\n",
      "  0.         0.         0.01428571 0.25714286 0.57142857 0.12857143\n",
      "  0.01428571 0.         0.         0.         0.         0.\n",
      "  0.         0.         0.         0.         0.         0.        ]\n",
      " [0.         0.         0.         0.         0.02040816 0.\n",
      "  0.         0.         0.         0.08163265 0.12244898 0.63265306\n",
      "  0.10204082 0.04081633 0.         0.         0.         0.\n",
      "  0.         0.         0.         0.         0.         0.        ]\n",
      " [0.         0.         0.         0.         0.         0.\n",
      "  0.         0.         0.         0.01724138 0.01724138 0.15517241\n",
      "  0.67241379 0.06896552 0.06896552 0.         0.         0.\n",
      "  0.         0.         0.         0.         0.         0.        ]\n",
      " [0.         0.         0.         0.         0.         0.\n",
      "  0.         0.         0.         0.         0.03333333 0.01666667\n",
      "  0.08333333 0.7        0.16666667 0.         0.         0.\n",
      "  0.         0.         0.         0.         0.         0.        ]\n",
      " [0.         0.         0.         0.         0.         0.\n",
      "  0.         0.         0.         0.         0.         0.01612903\n",
      "  0.         0.06451613 0.72580645 0.19354839 0.         0.\n",
      "  0.         0.         0.         0.         0.         0.        ]\n",
      " [0.         0.         0.         0.         0.         0.\n",
      "  0.         0.         0.01666667 0.         0.         0.01666667\n",
      "  0.01666667 0.01666667 0.15       0.63333333 0.15       0.\n",
      "  0.         0.         0.         0.         0.         0.        ]\n",
      " [0.         0.         0.         0.         0.         0.\n",
      "  0.         0.         0.         0.         0.         0.\n",
      "  0.01388889 0.         0.01388889 0.22222222 0.70833333 0.04166667\n",
      "  0.         0.         0.         0.         0.         0.        ]\n",
      " [0.         0.         0.         0.         0.         0.\n",
      "  0.         0.         0.         0.         0.         0.\n",
      "  0.         0.         0.         0.         0.13333333 0.8\n",
      "  0.06666667 0.         0.         0.         0.         0.        ]\n",
      " [0.         0.         0.         0.         0.         0.\n",
      "  0.         0.         0.         0.         0.         0.\n",
      "  0.         0.         0.         0.         0.01666667 0.16666667\n",
      "  0.78333333 0.03333333 0.         0.         0.         0.        ]\n",
      " [0.         0.         0.         0.         0.         0.\n",
      "  0.         0.         0.         0.         0.         0.\n",
      "  0.         0.         0.         0.01282051 0.         0.\n",
      "  0.12820513 0.78205128 0.07692308 0.         0.         0.        ]\n",
      " [0.         0.         0.         0.         0.         0.\n",
      "  0.         0.         0.         0.         0.         0.\n",
      "  0.         0.         0.         0.         0.         0.\n",
      "  0.         0.078125   0.84375    0.078125   0.         0.        ]\n",
      " [0.         0.         0.         0.         0.         0.\n",
      "  0.         0.         0.         0.         0.         0.\n",
      "  0.         0.         0.         0.         0.         0.\n",
      "  0.         0.02173913 0.17391304 0.73913043 0.06521739 0.        ]\n",
      " [0.         0.         0.         0.         0.         0.\n",
      "  0.         0.         0.         0.         0.         0.\n",
      "  0.         0.         0.         0.         0.         0.\n",
      "  0.         0.         0.01818182 0.2        0.76363636 0.01818182]\n",
      " [0.25       0.01666667 0.         0.         0.         0.\n",
      "  0.         0.         0.         0.         0.         0.\n",
      "  0.         0.         0.         0.         0.         0.\n",
      "  0.         0.         0.         0.01666667 0.11666667 0.6       ]]\n"
     ]
    }
   ],
   "source": [
    "conf_mat = confusion_matrix(y_test, y_predict, normalize='true')\n",
    "print(conf_mat)"
   ]
  },
  {
   "cell_type": "code",
   "execution_count": 55,
   "id": "79b5667f",
   "metadata": {},
   "outputs": [
    {
     "name": "stderr",
     "output_type": "stream",
     "text": [
      "C:\\Anaconda3\\envs\\geo37\\lib\\site-packages\\sklearn\\utils\\deprecation.py:87: FutureWarning: Function plot_confusion_matrix is deprecated; Function `plot_confusion_matrix` is deprecated in 1.0 and will be removed in 1.2. Use one of the class methods: ConfusionMatrixDisplay.from_predictions or ConfusionMatrixDisplay.from_estimator.\n",
      "  warnings.warn(msg, category=FutureWarning)\n",
      "[Parallel(n_jobs=4)]: Using backend ThreadingBackend with 4 concurrent workers.\n",
      "[Parallel(n_jobs=4)]: Done  42 tasks      | elapsed:    0.0s\n",
      "[Parallel(n_jobs=4)]: Done 192 tasks      | elapsed:    0.0s\n",
      "[Parallel(n_jobs=4)]: Done 442 tasks      | elapsed:    0.0s\n",
      "[Parallel(n_jobs=4)]: Done 792 tasks      | elapsed:    0.1s\n",
      "[Parallel(n_jobs=4)]: Done 1000 out of 1000 | elapsed:    0.1s finished\n"
     ]
    },
    {
     "data": {
      "image/png": "[encoded data removed]",
      "text/plain": [
       "<Figure size 1440x1440 with 2 Axes>"
      ]
     },
     "metadata": {
      "needs_background": "light"
     },
     "output_type": "display_data"
    }
   ],
   "source": [
    "color = 'blue'\n",
    "fig, ax = plt.subplots(figsize=(20, 20))\n",
    "matrix = plot_confusion_matrix( RF_Model, x_test, y_test, cmap=plt.cm.Blues, normalize='true', ax=ax)\n",
    "matrix.ax_.set_title('Confusion Matrix', color=color)\n",
    "plt.xlabel('Predicted Label', color=color)\n",
    "plt.ylabel('True Label', color=color)\n",
    "plt.gcf().axes[0].tick_params(colors=color)\n",
    "plt.gcf().axes[1].tick_params(colors=color)\n",
    "plt.show()"
   ]
  },
  {
   "cell_type": "code",
   "execution_count": 58,
   "id": "36f370c0",
   "metadata": {},
   "outputs": [
    {
     "name": "stdout",
     "output_type": "stream",
     "text": [
      "              precision    recall  f1-score   support\n",
      "\n",
      "           0       0.50      0.57      0.53        53\n",
      "           1       0.57      0.63      0.60        54\n",
      "           2       0.53      0.54      0.53        50\n",
      "           3       0.43      0.43      0.43        51\n",
      "           4       0.26      0.29      0.28        34\n",
      "           5       0.39      0.37      0.38        35\n",
      "           6       0.45      0.23      0.30        22\n",
      "           7       0.25      0.12      0.16        33\n",
      "           8       0.44      0.50      0.47        36\n",
      "           9       0.48      0.60      0.53        55\n",
      "          10       0.61      0.57      0.59        70\n",
      "          11       0.58      0.63      0.61        49\n",
      "          12       0.74      0.67      0.70        58\n",
      "          13       0.76      0.70      0.73        60\n",
      "          14       0.65      0.73      0.69        62\n",
      "          15       0.57      0.63      0.60        60\n",
      "          16       0.74      0.71      0.72        72\n",
      "          17       0.79      0.80      0.79        60\n",
      "          18       0.77      0.78      0.78        60\n",
      "          19       0.88      0.78      0.83        78\n",
      "          20       0.77      0.84      0.81        64\n",
      "          21       0.67      0.74      0.70        46\n",
      "          22       0.75      0.76      0.76        55\n",
      "          23       0.77      0.60      0.67        60\n",
      "\n",
      "    accuracy                           0.63      1277\n",
      "   macro avg       0.60      0.59      0.59      1277\n",
      "weighted avg       0.63      0.63      0.63      1277\n",
      "\n"
     ]
    }
   ],
   "source": [
    "print(classification_report(y_test, y_predict))"
   ]
  },
  {
   "cell_type": "code",
   "execution_count": null,
   "id": "0a62e9d8",
   "metadata": {},
   "outputs": [],
   "source": []
  }
 ],
 "metadata": {
  "kernelspec": {
   "display_name": "Python 3 (ipykernel)",
   "language": "python",
   "name": "python3"
  },
  "language_info": {
   "codemirror_mode": {
    "name": "ipython",
    "version": 3
   },
   "file_extension": ".py",
   "mimetype": "text/x-python",
   "name": "python",
   "nbconvert_exporter": "python",
   "pygments_lexer": "ipython3",
   "version": "3.7.13"
  }
 },
 "nbformat": 4,
 "nbformat_minor": 5
}
