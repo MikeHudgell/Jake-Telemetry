{
 "cells": [
  {
   "cell_type": "code",
   "execution_count": 2,
   "id": "79ac1901",
   "metadata": {},
   "outputs": [
    {
     "name": "stderr",
     "output_type": "stream",
     "text": [
      "C:\\Anaconda3\\envs\\geo37\\lib\\site-packages\\geopandas\\_compat.py:110: UserWarning: The Shapely GEOS version (3.8.0-CAPI-1.13.1 ) is incompatible with the GEOS version PyGEOS was compiled with (3.10.3-CAPI-1.16.1). Conversions between both will be slow.\n",
      "  shapely_geos_version, geos_capi_version_string\n"
     ]
    },
    {
     "name": "stdout",
     "output_type": "stream",
     "text": [
      "Python version 3.7.13 (default, Mar 28 2022, 08:03:21) [MSC v.1916 64 bit (AMD64)]\n",
      "Version info. sys.version_info(major=3, minor=7, micro=13, releaselevel='final', serial=0) C:\\Anaconda3\\envs\\geo37\\python.exe\n"
     ]
    }
   ],
   "source": [
    "#\n",
    "# Libraries\n",
    "#\n",
    "import datetime\n",
    "import dateutil.relativedelta\n",
    "import os\n",
    "import geopandas as gpd\n",
    "import numpy as np\n",
    "import pandas as pd\n",
    "import time\n",
    "import matplotlib.pylab as plt\n",
    "#from sentinelsat import SentinelAPI, read_geojson, geojson_to_wkt\n",
    "from shapely import geometry\n",
    "from shapely.geometry import Point, Polygon, LineString\n",
    "import shapely.wkt\n",
    "from geopandas.tools import sjoin\n",
    "import sys\n",
    "print(\"Python version\", sys.version)\n",
    "print (\"Version info.\", sys.version_info, sys.executable)\n",
    "from datetime import datetime\n",
    "import zipfile\n",
    "import shutil\n",
    "import rasterio\n",
    "from rasterio.plot import show\n",
    "from matplotlib import pyplot\n",
    "import pycrs\n",
    "from skimage import filters\n",
    "from skimage import exposure\n",
    "from skimage.feature import greycomatrix, greycoprops\n",
    "from skimage import data\n",
    "from osgeo import ogr\n",
    "from osgeo import gdal\n",
    "import plotly\n",
    "import requests\n",
    "import skimage\n",
    "import seaborn as sns\n",
    "from sklearn.model_selection import train_test_split\n",
    "from sklearn.ensemble import RandomForestRegressor, RandomForestClassifier\n",
    "from mpl_toolkits import mplot3d"
   ]
  },
  {
   "cell_type": "code",
   "execution_count": 3,
   "id": "6b3233a4",
   "metadata": {},
   "outputs": [
    {
     "data": {
      "application/javascript": [
       "IPython.OutputArea.prototype._should_scroll = function(lines) {\n",
       "    return false;\n",
       "}\n"
      ],
      "text/plain": [
       "<IPython.core.display.Javascript object>"
      ]
     },
     "metadata": {},
     "output_type": "display_data"
    }
   ],
   "source": [
    "%%javascript\n",
    "IPython.OutputArea.prototype._should_scroll = function(lines) {\n",
    "    return false;\n",
    "}"
   ]
  },
  {
   "cell_type": "code",
   "execution_count": 4,
   "id": "a69923c6",
   "metadata": {},
   "outputs": [],
   "source": [
    "data_path = 'C:/Users/mhudgell/data/dsa-jake/'\n",
    "os.listdir(data_path)\n",
    "file_path = data_path +'1 Team & Station Trip Level Data - April 2024 - Randomised.csv'\n",
    "trip = pd.read_csv(file_path)"
   ]
  },
  {
   "cell_type": "code",
   "execution_count": 4,
   "id": "ffb5921b",
   "metadata": {},
   "outputs": [],
   "source": [
    "\n",
    "zones_shapefile = data_path + '/' + 'GLCM_output_v2.shp'\n",
    "zones_gdf = gpd.read_file(os.path.join(zones_shapefile))\n"
   ]
  },
  {
   "cell_type": "code",
   "execution_count": 5,
   "id": "e07d53dc",
   "metadata": {},
   "outputs": [
    {
     "name": "stdout",
     "output_type": "stream",
     "text": [
      "['ID', 'A_pred', 'A_prob', 'B_pred', 'B_prob', 'BGZ', 'Label', 'BinaryClas', 'BGZ07_zona', 'S2_Spring_', 'S2_Spring1', 'S2_Sprin_1', 'S2_Sprin_2', 'S2_Sprin_3', 'S2_Sprin_4', 'S2_Sprin_5', 'S2_Sprin_6', 'S2_Sprin_7', 'S2_Sprin_8', 'S2_Autumn_', 'S2_Autumn1', 'S2_Autum_1', 'S2_Autum_2', 'S2_Autum_3', 'S2_Autum_4', 'S2_Autum_5', 'S2_Autum_6', 'S2_Autum_7', 'S2_Autum_8', 'S1_Spring_', 'S1_Spring1', 'S1_Autumn_', 'S1_Autumn1', 'S1_Sprin_1', 'S1_Sprin_2', 'S1_Autum_1', 'S1_Autum_2', 'S1_Summer_', 'S1_Summer1', 'height_mea', 'slope_mean', 'aspect_mea', 'hand_mean', 'buildingsp', 'foreshorep', 'moorlandpr', 'surfaceWat', 'tidalWater', 'woodlandpr', 'bioclim_ma', 'bioclim_mi', 'bioclim_an', 'S2_Sprin_9', 'S2_Spri_10', 'S2_Spri_11', 'S2_Spri_12', 'S2_Spri_13', 'S2_Spri_14', 'S2_Spri_15', 'S2_Spri_16', 'S2_Spri_17', 'S2_Spri_18', 'S2_Autum_9', 'S2_Autu_10', 'S2_Autu_11', 'S2_Autu_12', 'S2_Autu_13', 'S2_Autu_14', 'S2_Autu_15', 'S2_Autu_16', 'S2_Autu_17', 'S2_Autu_18', 'S1_Sprin_3', 'S1_Sprin_4', 'S1_Autum_3', 'S1_Autum_4', 'S1_Sprin_5', 'S1_Sprin_6', 'S1_Autum_5', 'S1_Autum_6', 'S1_Summe_1', 'S1_Summe_2', 'height_min', 'slope_min', 'aspect_min', 'hand_min', 'building_1', 'foreshor_1', 'moorland_1', 'surfaceW_1', 'tidalWat_1', 'woodland_1', 'bioclim__1', 'bioclim__2', 'bioclim__3', 'S2_Spri_19', 'S2_Spri_20', 'S2_Spri_21', 'S2_Spri_22', 'S2_Spri_23', 'S2_Spri_24', 'S2_Spri_25', 'S2_Spri_26', 'S2_Spri_27', 'S2_Spri_28', 'S2_Autu_19', 'S2_Autu_20', 'S2_Autu_21', 'S2_Autu_22', 'S2_Autu_23', 'S2_Autu_24', 'S2_Autu_25', 'S2_Autu_26', 'S2_Autu_27', 'S2_Autu_28', 'S1_Sprin_7', 'S1_Sprin_8', 'S1_Autum_7', 'S1_Autum_8', 'S1_Sprin_9', 'S1_Spri_10', 'S1_Autum_9', 'S1_Autu_10', 'S1_Summe_3', 'S1_Summe_4', 'height_max', 'slope_max', 'aspect_max', 'hand_max', 'building_2', 'foreshor_2', 'moorland_2', 'surfaceW_2', 'tidalWat_2', 'woodland_2', 'bioclim__4', 'bioclim__5', 'bioclim__6', 'S2_Spri_29', 'S2_Spri_30', 'S2_Spri_31', 'S2_Spri_32', 'S2_Spri_33', 'S2_Spri_34', 'S2_Spri_35', 'S2_Spri_36', 'S2_Spri_37', 'S2_Spri_38', 'S2_Autu_29', 'S2_Autu_30', 'S2_Autu_31', 'S2_Autu_32', 'S2_Autu_33', 'S2_Autu_34', 'S2_Autu_35', 'S2_Autu_36', 'S2_Autu_37', 'S2_Autu_38', 'S1_Spri_11', 'S1_Spri_12', 'S1_Autu_11', 'S1_Autu_12', 'S1_Spri_13', 'S1_Spri_14', 'S1_Autu_13', 'S1_Autu_14', 'S1_Summe_5', 'S1_Summe_6', 'height_std', 'slope_stde', 'aspect_std', 'hand_stdev', 'building_3', 'foreshor_3', 'moorland_3', 'surfaceW_3', 'tidalWat_3', 'woodland_3', 'bioclim__7', 'bioclim__8', 'bioclim__9', 'geology', 'S2_Spri_39', 'S2_Spri_40', 'S2_Autu_39', 'S2_Autu_40', 'S1_Spri_15', 'S1_Autu_15', 'S1_Spri_16', 'S1_Autu_16', 'S1_Spri_17', 'S1_Autu_17', 'S1_Spri_18', 'S1_Autu_18', 'S1_Spri_19', 'S1_Autu_19', 'S1_Spri_20', 'S1_Autu_20', 'LD_min', 'LD_max', 'LD_range', 'LD_mean', 'LD_std', 'Class', 'ID_1', 'mean_contrast', 'mean_dissimilarity', 'mean_homogeneity', 'mean_energy', 'mean_correlation', 'mean_ASM', 'min_contrast', 'min_dissimilarity', 'min_homogeneity', 'min_energy', 'min_correlation', 'min_ASM', 'max_contrast', 'max_dissimilarity', 'max_homogeneity', 'max_energy', 'max_correlation', 'max_ASM', 'std_contrast', 'std_dissimilarity', 'std_homogeneity', 'std_energy', 'std_correlation', 'std_ASM', 'range_contrast', 'range_dissimilarity', 'range_homogeneity', 'range_energy', 'range_correlation', 'range_ASM', 'geometry']\n"
     ]
    }
   ],
   "source": [
    "print(list(zones_gdf))"
   ]
  },
  {
   "cell_type": "code",
   "execution_count": 6,
   "id": "966a7d84",
   "metadata": {},
   "outputs": [
    {
     "name": "stdout",
     "output_type": "stream",
     "text": [
      "4539\n",
      "1167\n",
      "154\n",
      "91\n"
     ]
    }
   ],
   "source": [
    "high_df = zones_gdf.loc[zones_gdf['Class'] == 'High level']\n",
    "low_df = zones_gdf.loc[zones_gdf['Class'] == 'Low level']\n",
    "mid_df = zones_gdf.loc[zones_gdf['Class'] == 'Mid level']\n",
    "scrub_df = zones_gdf.loc[zones_gdf['Class'] == 'Scrub']\n",
    "    \n",
    "print(len(high_df.index))\n",
    "print(len(low_df.index))\n",
    "print(len(mid_df.index))\n",
    "print(len(scrub_df.index))\n",
    "\n",
    "cap = len(scrub_df.index)\n",
    "    "
   ]
  },
  {
   "cell_type": "code",
   "execution_count": 7,
   "id": "5cdd61c0",
   "metadata": {},
   "outputs": [],
   "source": [
    "sample_high_df = high_df.sample(n=cap, random_state=0)\n",
    "sample_low_df = low_df.sample(n=cap, random_state=0)\n",
    "sample_mid_df = mid_df.sample(n=cap, random_state=0)\n",
    "sample_scrub_df = scrub_df.sample(n=cap, random_state=0) # for completeness in case we even need too sample scrub"
   ]
  },
  {
   "cell_type": "code",
   "execution_count": 8,
   "id": "391b5631",
   "metadata": {},
   "outputs": [
    {
     "name": "stdout",
     "output_type": "stream",
     "text": [
      "91\n",
      "91\n",
      "91\n",
      "91\n"
     ]
    }
   ],
   "source": [
    "print(len(sample_high_df.index))\n",
    "print(len(sample_low_df.index))\n",
    "print(len(sample_mid_df.index))\n",
    "print(len(sample_scrub_df.index))\n"
   ]
  },
  {
   "cell_type": "code",
   "execution_count": 10,
   "id": "f225984e",
   "metadata": {},
   "outputs": [],
   "source": [
    "sample_high_df['pred'] = 8.0\n",
    "sample_mid_df['pred'] = 6.0\n",
    "sample_low_df['pred'] = 4.0\n",
    "sample_scrub_df['pred'] = 1.0"
   ]
  },
  {
   "cell_type": "code",
   "execution_count": 33,
   "id": "489400dc",
   "metadata": {},
   "outputs": [],
   "source": [
    "features_of_interest = ['LD_min', 'LD_max', 'LD_range', 'LD_mean','mean_contrast', 'mean_dissimilarity', \n",
    "                        'mean_homogeneity', 'mean_energy', 'mean_correlation', 'mean_ASM', 'min_contrast', \n",
    "                        'min_dissimilarity', 'min_homogeneity', 'min_energy', 'min_correlation', 'min_ASM', \n",
    "                        'max_contrast', 'max_dissimilarity', 'max_homogeneity', 'max_energy', 'max_correlation', \n",
    "                        'max_ASM', 'std_contrast', 'std_dissimilarity', 'std_homogeneity', 'std_energy', \n",
    "                        'std_correlation', 'std_ASM', 'range_contrast', 'range_dissimilarity', 'range_homogeneity', \n",
    "                        'range_energy', 'range_correlation', 'range_ASM']\n",
    "\n",
    "\n"
   ]
  },
  {
   "cell_type": "code",
   "execution_count": 34,
   "id": "9aa84b24",
   "metadata": {},
   "outputs": [],
   "source": [
    "\n",
    "sample_high_features_df = sample_high_df[features_of_interest].copy()\n",
    "sample_mid_features_df = sample_mid_df[features_of_interest].copy()\n",
    "sample_low_features_df = sample_low_df[features_of_interest].copy()\n",
    "sample_scrub_features_df = sample_scrub_df[features_of_interest].copy()"
   ]
  },
  {
   "cell_type": "code",
   "execution_count": 35,
   "id": "3dec92d3",
   "metadata": {},
   "outputs": [],
   "source": [
    "\n",
    "sample_high_labels_df = sample_high_df['pred'].copy()\n",
    "sample_mid_labels_df = sample_mid_df['pred'].copy()\n",
    "sample_low_labels_df = sample_low_df['pred'].copy()\n",
    "sample_scrub_labels_df = sample_scrub_df['pred'].copy()"
   ]
  },
  {
   "cell_type": "code",
   "execution_count": 36,
   "id": "10df8fde",
   "metadata": {},
   "outputs": [],
   "source": [
    "features_high = sample_high_features_df.to_numpy()\n",
    "features_mid = sample_mid_features_df.to_numpy()\n",
    "features_low = sample_low_features_df.to_numpy()\n",
    "features_scrub = sample_scrub_features_df.to_numpy()\n",
    "\n",
    "labels_high = sample_high_labels_df.to_numpy()\n",
    "labels_mid = sample_mid_labels_df.to_numpy()\n",
    "labels_low = sample_low_labels_df.to_numpy()\n",
    "labels_scrub = sample_scrub_labels_df.to_numpy()"
   ]
  },
  {
   "cell_type": "code",
   "execution_count": 37,
   "id": "c762c523",
   "metadata": {},
   "outputs": [
    {
     "name": "stdout",
     "output_type": "stream",
     "text": [
      "(364,)\n",
      "(364, 34)\n"
     ]
    }
   ],
   "source": [
    "labels = np.concatenate((labels_high, labels_mid, labels_low, labels_scrub), axis=0)\n",
    "features = np.concatenate((features_high, features_mid, features_low, features_scrub), axis=0)\n",
    "print(labels.shape)\n",
    "print(features.shape)"
   ]
  },
  {
   "cell_type": "code",
   "execution_count": 38,
   "id": "73606a8c",
   "metadata": {},
   "outputs": [],
   "source": [
    "x_train, x_test, y_train, y_test = train_test_split(features, labels, test_size=0.25, shuffle=True, stratify=None)"
   ]
  },
  {
   "cell_type": "code",
   "execution_count": 39,
   "id": "5459c0a7",
   "metadata": {},
   "outputs": [
    {
     "name": "stdout",
     "output_type": "stream",
     "text": [
      "(273, 34)\n",
      "(91, 34)\n",
      "(273,)\n",
      "(91,)\n"
     ]
    }
   ],
   "source": [
    "print(x_train.shape)\n",
    "print(x_test.shape)\n",
    "print(y_train.shape)\n",
    "print(y_test.shape)"
   ]
  },
  {
   "cell_type": "code",
   "execution_count": 40,
   "id": "c7e6d9a8",
   "metadata": {},
   "outputs": [
    {
     "name": "stderr",
     "output_type": "stream",
     "text": [
      "[Parallel(n_jobs=4)]: Using backend ThreadingBackend with 4 concurrent workers.\n",
      "[Parallel(n_jobs=4)]: Done  42 tasks      | elapsed:    0.0s\n",
      "[Parallel(n_jobs=4)]: Done 192 tasks      | elapsed:    0.0s\n",
      "[Parallel(n_jobs=4)]: Done 442 tasks      | elapsed:    0.1s\n",
      "[Parallel(n_jobs=4)]: Done 792 tasks      | elapsed:    0.3s\n",
      "[Parallel(n_jobs=4)]: Done 1000 out of 1000 | elapsed:    0.5s finished\n"
     ]
    },
    {
     "data": {
      "text/plain": [
       "RandomForestClassifier(bootstrap=False, n_estimators=1000, n_jobs=4, verbose=1)"
      ]
     },
     "execution_count": 40,
     "metadata": {},
     "output_type": "execute_result"
    }
   ],
   "source": [
    "RF_Model = RandomForestClassifier(n_estimators=1000, verbose=1, bootstrap=False, n_jobs=4)#, random_state = 21)\n",
    "RF_Model.fit(x_train, y_train)"
   ]
  },
  {
   "cell_type": "code",
   "execution_count": 41,
   "id": "1ddbd07d",
   "metadata": {},
   "outputs": [
    {
     "name": "stderr",
     "output_type": "stream",
     "text": [
      "[Parallel(n_jobs=4)]: Using backend ThreadingBackend with 4 concurrent workers.\n",
      "[Parallel(n_jobs=4)]: Done  42 tasks      | elapsed:    0.0s\n",
      "[Parallel(n_jobs=4)]: Done 192 tasks      | elapsed:    0.0s\n",
      "[Parallel(n_jobs=4)]: Done 442 tasks      | elapsed:    0.0s\n",
      "[Parallel(n_jobs=4)]: Done 792 tasks      | elapsed:    0.0s\n",
      "[Parallel(n_jobs=4)]: Done 1000 out of 1000 | elapsed:    0.0s finished\n"
     ]
    }
   ],
   "source": [
    "y_predict = RF_Model.predict(x_test)"
   ]
  },
  {
   "cell_type": "code",
   "execution_count": 42,
   "id": "88ab3334",
   "metadata": {},
   "outputs": [
    {
     "name": "stderr",
     "output_type": "stream",
     "text": [
      "[Parallel(n_jobs=4)]: Using backend ThreadingBackend with 4 concurrent workers.\n",
      "[Parallel(n_jobs=4)]: Done  42 tasks      | elapsed:    0.0s\n",
      "[Parallel(n_jobs=4)]: Done 192 tasks      | elapsed:    0.0s\n",
      "[Parallel(n_jobs=4)]: Done 442 tasks      | elapsed:    0.0s\n",
      "[Parallel(n_jobs=4)]: Done 792 tasks      | elapsed:    0.0s\n",
      "[Parallel(n_jobs=4)]: Done 1000 out of 1000 | elapsed:    0.0s finished\n"
     ]
    },
    {
     "data": {
      "text/plain": [
       "0.6373626373626373"
      ]
     },
     "execution_count": 42,
     "metadata": {},
     "output_type": "execute_result"
    }
   ],
   "source": [
    "RF_Model.score(x_test, y_test)"
   ]
  },
  {
   "cell_type": "code",
   "execution_count": 43,
   "id": "55027b27",
   "metadata": {},
   "outputs": [
    {
     "name": "stdout",
     "output_type": "stream",
     "text": [
      "[0.0577138  0.05093746 0.05391434 0.09882208 0.014313   0.01572165\n",
      " 0.06507611 0.02834353 0.0262941  0.02721714 0.01615078 0.01968807\n",
      " 0.05819857 0.02690307 0.02568349 0.02492025 0.01422982 0.01652278\n",
      " 0.08220383 0.0282588  0.03587346 0.02435456 0.01520394 0.0144578\n",
      " 0.01397996 0.02031181 0.01683474 0.01243692 0.01507879 0.01625529\n",
      " 0.01363303 0.02050204 0.01653361 0.01343139]\n"
     ]
    }
   ],
   "source": [
    "print(RF_Model.feature_importances_)"
   ]
  },
  {
   "cell_type": "code",
   "execution_count": null,
   "id": "ee06a1cf",
   "metadata": {},
   "outputs": [],
   "source": []
  },
  {
   "cell_type": "code",
   "execution_count": null,
   "id": "11305150",
   "metadata": {},
   "outputs": [],
   "source": []
  },
  {
   "cell_type": "code",
   "execution_count": 57,
   "id": "a025ea40",
   "metadata": {},
   "outputs": [],
   "source": [
    "features_of_interest = ['LD_min', 'LD_max', 'LD_range', 'LD_mean', 'mean_homogeneity']\n"
   ]
  },
  {
   "cell_type": "code",
   "execution_count": 58,
   "id": "87e15ac3",
   "metadata": {},
   "outputs": [],
   "source": [
    "sample_high_features_df = sample_high_df[features_of_interest].copy()\n",
    "sample_mid_features_df = sample_mid_df[features_of_interest].copy()\n",
    "sample_low_features_df = sample_low_df[features_of_interest].copy()\n",
    "sample_scrub_features_df = sample_scrub_df[features_of_interest].copy()"
   ]
  },
  {
   "cell_type": "code",
   "execution_count": 59,
   "id": "9609d15c",
   "metadata": {},
   "outputs": [],
   "source": [
    "\n",
    "sample_high_labels_df = sample_high_df['pred'].copy()\n",
    "sample_mid_labels_df = sample_mid_df['pred'].copy()\n",
    "sample_low_labels_df = sample_low_df['pred'].copy()\n",
    "sample_scrub_labels_df = sample_scrub_df['pred'].copy()"
   ]
  },
  {
   "cell_type": "code",
   "execution_count": 60,
   "id": "9545e7e4",
   "metadata": {},
   "outputs": [],
   "source": [
    "features_high = sample_high_features_df.to_numpy()\n",
    "features_mid = sample_mid_features_df.to_numpy()\n",
    "features_low = sample_low_features_df.to_numpy()\n",
    "features_scrub = sample_scrub_features_df.to_numpy()\n",
    "\n",
    "labels_high = sample_high_labels_df.to_numpy()\n",
    "labels_mid = sample_mid_labels_df.to_numpy()\n",
    "labels_low = sample_low_labels_df.to_numpy()\n",
    "labels_scrub = sample_scrub_labels_df.to_numpy()"
   ]
  },
  {
   "cell_type": "code",
   "execution_count": 61,
   "id": "283d9605",
   "metadata": {},
   "outputs": [
    {
     "name": "stdout",
     "output_type": "stream",
     "text": [
      "(364,)\n",
      "(364, 5)\n"
     ]
    }
   ],
   "source": [
    "labels = np.concatenate((labels_high, labels_mid, labels_low, labels_scrub), axis=0)\n",
    "features = np.concatenate((features_high, features_mid, features_low, features_scrub), axis=0)\n",
    "print(labels.shape)\n",
    "print(features.shape)"
   ]
  },
  {
   "cell_type": "code",
   "execution_count": 62,
   "id": "7355aa01",
   "metadata": {},
   "outputs": [],
   "source": [
    "x_train, x_test, y_train, y_test = train_test_split(features, labels, test_size=0.25, shuffle=True, stratify=None)"
   ]
  },
  {
   "cell_type": "code",
   "execution_count": 63,
   "id": "e7b7f236",
   "metadata": {},
   "outputs": [
    {
     "name": "stdout",
     "output_type": "stream",
     "text": [
      "(273, 5)\n",
      "(91, 5)\n",
      "(273,)\n",
      "(91,)\n"
     ]
    }
   ],
   "source": [
    "print(x_train.shape)\n",
    "print(x_test.shape)\n",
    "print(y_train.shape)\n",
    "print(y_test.shape)"
   ]
  },
  {
   "cell_type": "code",
   "execution_count": 64,
   "id": "76fe2b1b",
   "metadata": {},
   "outputs": [
    {
     "name": "stderr",
     "output_type": "stream",
     "text": [
      "[Parallel(n_jobs=4)]: Using backend ThreadingBackend with 4 concurrent workers.\n",
      "[Parallel(n_jobs=4)]: Done  42 tasks      | elapsed:    0.0s\n",
      "[Parallel(n_jobs=4)]: Done 192 tasks      | elapsed:    0.0s\n",
      "[Parallel(n_jobs=4)]: Done 442 tasks      | elapsed:    0.1s\n",
      "[Parallel(n_jobs=4)]: Done 792 tasks      | elapsed:    0.3s\n",
      "[Parallel(n_jobs=4)]: Done 1000 out of 1000 | elapsed:    0.4s finished\n"
     ]
    },
    {
     "data": {
      "text/plain": [
       "RandomForestClassifier(bootstrap=False, n_estimators=1000, n_jobs=4, verbose=1)"
      ]
     },
     "execution_count": 64,
     "metadata": {},
     "output_type": "execute_result"
    }
   ],
   "source": [
    "RF_Model = RandomForestClassifier(n_estimators=1000, verbose=1, bootstrap=False, n_jobs=4)#, random_state = 21)\n",
    "RF_Model.fit(x_train, y_train)"
   ]
  },
  {
   "cell_type": "code",
   "execution_count": 65,
   "id": "e464ad9a",
   "metadata": {},
   "outputs": [
    {
     "name": "stderr",
     "output_type": "stream",
     "text": [
      "[Parallel(n_jobs=4)]: Using backend ThreadingBackend with 4 concurrent workers.\n",
      "[Parallel(n_jobs=4)]: Done  42 tasks      | elapsed:    0.0s\n",
      "[Parallel(n_jobs=4)]: Done 192 tasks      | elapsed:    0.0s\n",
      "[Parallel(n_jobs=4)]: Done 442 tasks      | elapsed:    0.0s\n",
      "[Parallel(n_jobs=4)]: Done 792 tasks      | elapsed:    0.0s\n",
      "[Parallel(n_jobs=4)]: Done 1000 out of 1000 | elapsed:    0.0s finished\n"
     ]
    }
   ],
   "source": [
    "y_predict = RF_Model.predict(x_test)"
   ]
  },
  {
   "cell_type": "code",
   "execution_count": 66,
   "id": "590aa0d1",
   "metadata": {},
   "outputs": [
    {
     "name": "stderr",
     "output_type": "stream",
     "text": [
      "[Parallel(n_jobs=4)]: Using backend ThreadingBackend with 4 concurrent workers.\n",
      "[Parallel(n_jobs=4)]: Done  42 tasks      | elapsed:    0.0s\n",
      "[Parallel(n_jobs=4)]: Done 192 tasks      | elapsed:    0.0s\n",
      "[Parallel(n_jobs=4)]: Done 442 tasks      | elapsed:    0.0s\n",
      "[Parallel(n_jobs=4)]: Done 792 tasks      | elapsed:    0.0s\n",
      "[Parallel(n_jobs=4)]: Done 1000 out of 1000 | elapsed:    0.0s finished\n"
     ]
    },
    {
     "data": {
      "text/plain": [
       "0.7582417582417582"
      ]
     },
     "execution_count": 66,
     "metadata": {},
     "output_type": "execute_result"
    }
   ],
   "source": [
    "RF_Model.score(x_test, y_test)"
   ]
  },
  {
   "cell_type": "code",
   "execution_count": 67,
   "id": "7a4f86c3",
   "metadata": {},
   "outputs": [
    {
     "name": "stdout",
     "output_type": "stream",
     "text": [
      "[0.18062739 0.13015167 0.1509627  0.28093509 0.25732315]\n"
     ]
    }
   ],
   "source": [
    "print(RF_Model.feature_importances_)"
   ]
  },
  {
   "cell_type": "code",
   "execution_count": null,
   "id": "3b11e234",
   "metadata": {},
   "outputs": [],
   "source": []
  },
  {
   "cell_type": "code",
   "execution_count": null,
   "id": "17cc2c13",
   "metadata": {},
   "outputs": [],
   "source": []
  },
  {
   "cell_type": "code",
   "execution_count": 91,
   "id": "d99c5ccd",
   "metadata": {},
   "outputs": [],
   "source": [
    "features_of_interest = ['LD_mean', 'mean_homogeneity']\n"
   ]
  },
  {
   "cell_type": "code",
   "execution_count": 92,
   "id": "cfa73a08",
   "metadata": {},
   "outputs": [],
   "source": [
    "sample_high_features_df = sample_high_df[features_of_interest].copy()\n",
    "sample_mid_features_df = sample_mid_df[features_of_interest].copy()\n",
    "sample_low_features_df = sample_low_df[features_of_interest].copy()\n",
    "sample_scrub_features_df = sample_scrub_df[features_of_interest].copy()"
   ]
  },
  {
   "cell_type": "code",
   "execution_count": 93,
   "id": "74dfa006",
   "metadata": {},
   "outputs": [],
   "source": [
    "features_high = sample_high_features_df.to_numpy()\n",
    "features_mid = sample_mid_features_df.to_numpy()\n",
    "features_low = sample_low_features_df.to_numpy()\n",
    "features_scrub = sample_scrub_features_df.to_numpy()\n",
    "\n",
    "labels_high = sample_high_labels_df.to_numpy()\n",
    "labels_mid = sample_mid_labels_df.to_numpy()\n",
    "labels_low = sample_low_labels_df.to_numpy()\n",
    "labels_scrub = sample_scrub_labels_df.to_numpy()"
   ]
  },
  {
   "cell_type": "code",
   "execution_count": 94,
   "id": "decb54c7",
   "metadata": {},
   "outputs": [
    {
     "name": "stdout",
     "output_type": "stream",
     "text": [
      "(364,)\n",
      "(364, 2)\n"
     ]
    }
   ],
   "source": [
    "labels = np.concatenate((labels_high, labels_mid, labels_low, labels_scrub), axis=0)\n",
    "features = np.concatenate((features_high, features_mid, features_low, features_scrub), axis=0)\n",
    "print(labels.shape)\n",
    "print(features.shape)"
   ]
  },
  {
   "cell_type": "code",
   "execution_count": 95,
   "id": "dd18004c",
   "metadata": {},
   "outputs": [],
   "source": [
    "x_train, x_test, y_train, y_test = train_test_split(features, labels, test_size=0.25, shuffle=True, stratify=None)"
   ]
  },
  {
   "cell_type": "code",
   "execution_count": 96,
   "id": "f8c96593",
   "metadata": {},
   "outputs": [
    {
     "name": "stderr",
     "output_type": "stream",
     "text": [
      "[Parallel(n_jobs=4)]: Using backend ThreadingBackend with 4 concurrent workers.\n",
      "[Parallel(n_jobs=4)]: Done  42 tasks      | elapsed:    0.0s\n",
      "[Parallel(n_jobs=4)]: Done 192 tasks      | elapsed:    0.0s\n",
      "[Parallel(n_jobs=4)]: Done 442 tasks      | elapsed:    0.1s\n",
      "[Parallel(n_jobs=4)]: Done 792 tasks      | elapsed:    0.3s\n",
      "[Parallel(n_jobs=4)]: Done 1000 out of 1000 | elapsed:    0.4s finished\n"
     ]
    },
    {
     "data": {
      "text/plain": [
       "RandomForestClassifier(bootstrap=False, n_estimators=1000, n_jobs=4, verbose=1)"
      ]
     },
     "execution_count": 96,
     "metadata": {},
     "output_type": "execute_result"
    }
   ],
   "source": [
    "RF_Model = RandomForestClassifier(n_estimators=1000, verbose=1, bootstrap=False, n_jobs=4)#, random_state = 21)\n",
    "RF_Model.fit(x_train, y_train)"
   ]
  },
  {
   "cell_type": "code",
   "execution_count": 97,
   "id": "c4cb6990",
   "metadata": {},
   "outputs": [
    {
     "name": "stderr",
     "output_type": "stream",
     "text": [
      "[Parallel(n_jobs=4)]: Using backend ThreadingBackend with 4 concurrent workers.\n",
      "[Parallel(n_jobs=4)]: Done  42 tasks      | elapsed:    0.0s\n",
      "[Parallel(n_jobs=4)]: Done 192 tasks      | elapsed:    0.0s\n",
      "[Parallel(n_jobs=4)]: Done 442 tasks      | elapsed:    0.0s\n",
      "[Parallel(n_jobs=4)]: Done 792 tasks      | elapsed:    0.0s\n",
      "[Parallel(n_jobs=4)]: Done 1000 out of 1000 | elapsed:    0.0s finished\n"
     ]
    }
   ],
   "source": [
    "y_predict = RF_Model.predict(x_test)"
   ]
  },
  {
   "cell_type": "code",
   "execution_count": 98,
   "id": "a3f100f0",
   "metadata": {},
   "outputs": [
    {
     "name": "stderr",
     "output_type": "stream",
     "text": [
      "[Parallel(n_jobs=4)]: Using backend ThreadingBackend with 4 concurrent workers.\n",
      "[Parallel(n_jobs=4)]: Done  42 tasks      | elapsed:    0.0s\n",
      "[Parallel(n_jobs=4)]: Done 192 tasks      | elapsed:    0.0s\n",
      "[Parallel(n_jobs=4)]: Done 442 tasks      | elapsed:    0.0s\n",
      "[Parallel(n_jobs=4)]: Done 792 tasks      | elapsed:    0.0s\n",
      "[Parallel(n_jobs=4)]: Done 1000 out of 1000 | elapsed:    0.0s finished\n"
     ]
    },
    {
     "data": {
      "text/plain": [
       "0.6483516483516484"
      ]
     },
     "execution_count": 98,
     "metadata": {},
     "output_type": "execute_result"
    }
   ],
   "source": [
    "RF_Model.score(x_test, y_test)"
   ]
  },
  {
   "cell_type": "code",
   "execution_count": 99,
   "id": "1a773f73",
   "metadata": {},
   "outputs": [
    {
     "name": "stdout",
     "output_type": "stream",
     "text": [
      "[0.5333578 0.4666422]\n"
     ]
    }
   ],
   "source": [
    "print(RF_Model.feature_importances_)"
   ]
  },
  {
   "cell_type": "code",
   "execution_count": null,
   "id": "533c9830",
   "metadata": {},
   "outputs": [],
   "source": []
  },
  {
   "cell_type": "code",
   "execution_count": 100,
   "id": "bed0fb2f",
   "metadata": {},
   "outputs": [],
   "source": [
    "features_of_interest = ['LD_min', 'LD_max', 'LD_range', 'LD_mean', 'mean_homogeneity']\n"
   ]
  },
  {
   "cell_type": "code",
   "execution_count": 101,
   "id": "d94dfba3",
   "metadata": {},
   "outputs": [],
   "source": [
    "sample_high_features_df = sample_high_df[features_of_interest].copy()\n",
    "sample_mid_features_df = sample_mid_df[features_of_interest].copy()\n",
    "sample_low_features_df = sample_low_df[features_of_interest].copy()\n",
    "sample_scrub_features_df = sample_scrub_df[features_of_interest].copy()"
   ]
  },
  {
   "cell_type": "code",
   "execution_count": 102,
   "id": "7be33fc2",
   "metadata": {},
   "outputs": [],
   "source": [
    "features_high = sample_high_features_df.to_numpy()\n",
    "features_mid = sample_mid_features_df.to_numpy()\n",
    "features_low = sample_low_features_df.to_numpy()\n",
    "features_scrub = sample_scrub_features_df.to_numpy()\n",
    "\n",
    "labels_high = sample_high_labels_df.to_numpy()\n",
    "labels_mid = sample_mid_labels_df.to_numpy()\n",
    "labels_low = sample_low_labels_df.to_numpy()\n",
    "labels_scrub = sample_scrub_labels_df.to_numpy()"
   ]
  },
  {
   "cell_type": "code",
   "execution_count": null,
   "id": "11283802",
   "metadata": {},
   "outputs": [],
   "source": []
  },
  {
   "cell_type": "code",
   "execution_count": 110,
   "id": "2ecdeb59",
   "metadata": {},
   "outputs": [
    {
     "name": "stdout",
     "output_type": "stream",
     "text": [
      "(182,)\n",
      "(182, 5)\n"
     ]
    }
   ],
   "source": [
    "labels = np.concatenate((labels_high,  labels_scrub), axis=0)\n",
    "features = np.concatenate((features_high,  features_scrub), axis=0)\n",
    "print(labels.shape)\n",
    "print(features.shape)"
   ]
  },
  {
   "cell_type": "code",
   "execution_count": 111,
   "id": "1aa2970f",
   "metadata": {},
   "outputs": [
    {
     "name": "stderr",
     "output_type": "stream",
     "text": [
      "[Parallel(n_jobs=4)]: Using backend ThreadingBackend with 4 concurrent workers.\n",
      "[Parallel(n_jobs=4)]: Done  42 tasks      | elapsed:    0.0s\n",
      "[Parallel(n_jobs=4)]: Done 192 tasks      | elapsed:    0.0s\n",
      "[Parallel(n_jobs=4)]: Done 442 tasks      | elapsed:    0.1s\n",
      "[Parallel(n_jobs=4)]: Done 792 tasks      | elapsed:    0.2s\n",
      "[Parallel(n_jobs=4)]: Done 1000 out of 1000 | elapsed:    0.3s finished\n",
      "[Parallel(n_jobs=4)]: Using backend ThreadingBackend with 4 concurrent workers.\n",
      "[Parallel(n_jobs=4)]: Done  42 tasks      | elapsed:    0.0s\n",
      "[Parallel(n_jobs=4)]: Done 192 tasks      | elapsed:    0.0s\n",
      "[Parallel(n_jobs=4)]: Done 442 tasks      | elapsed:    0.0s\n",
      "[Parallel(n_jobs=4)]: Done 792 tasks      | elapsed:    0.0s\n",
      "[Parallel(n_jobs=4)]: Done 1000 out of 1000 | elapsed:    0.0s finished\n",
      "[Parallel(n_jobs=4)]: Using backend ThreadingBackend with 4 concurrent workers.\n",
      "[Parallel(n_jobs=4)]: Done  42 tasks      | elapsed:    0.0s\n",
      "[Parallel(n_jobs=4)]: Done 192 tasks      | elapsed:    0.0s\n",
      "[Parallel(n_jobs=4)]: Done 442 tasks      | elapsed:    0.0s\n",
      "[Parallel(n_jobs=4)]: Done 792 tasks      | elapsed:    0.0s\n",
      "[Parallel(n_jobs=4)]: Done 1000 out of 1000 | elapsed:    0.0s finished\n"
     ]
    },
    {
     "data": {
      "text/plain": [
       "0.8695652173913043"
      ]
     },
     "execution_count": 111,
     "metadata": {},
     "output_type": "execute_result"
    }
   ],
   "source": [
    "x_train, x_test, y_train, y_test = train_test_split(features, labels, test_size=0.25, shuffle=True, stratify=None)\n",
    "RF_Model = RandomForestClassifier(n_estimators=1000, verbose=1, bootstrap=False, n_jobs=4)#, random_state = 21)\n",
    "RF_Model.fit(x_train, y_train)\n",
    "y_predict = RF_Model.predict(x_test)\n",
    "RF_Model.score(x_test, y_test)"
   ]
  },
  {
   "cell_type": "code",
   "execution_count": 112,
   "id": "7650fabe",
   "metadata": {},
   "outputs": [
    {
     "name": "stdout",
     "output_type": "stream",
     "text": [
      "[0.03235417 0.21113885 0.2104319  0.38424843 0.16182664]\n"
     ]
    }
   ],
   "source": [
    "print(RF_Model.feature_importances_)"
   ]
  },
  {
   "cell_type": "code",
   "execution_count": 113,
   "id": "85a8274a",
   "metadata": {},
   "outputs": [
    {
     "name": "stdout",
     "output_type": "stream",
     "text": [
      "(182,)\n",
      "(182, 5)\n"
     ]
    }
   ],
   "source": [
    "labels = np.concatenate((labels_mid,  labels_scrub), axis=0)\n",
    "features = np.concatenate((features_mid,  features_scrub), axis=0)\n",
    "print(labels.shape)\n",
    "print(features.shape)"
   ]
  },
  {
   "cell_type": "code",
   "execution_count": 114,
   "id": "c6870563",
   "metadata": {},
   "outputs": [
    {
     "name": "stderr",
     "output_type": "stream",
     "text": [
      "[Parallel(n_jobs=4)]: Using backend ThreadingBackend with 4 concurrent workers.\n",
      "[Parallel(n_jobs=4)]: Done  42 tasks      | elapsed:    0.0s\n",
      "[Parallel(n_jobs=4)]: Done 192 tasks      | elapsed:    0.0s\n",
      "[Parallel(n_jobs=4)]: Done 442 tasks      | elapsed:    0.1s\n",
      "[Parallel(n_jobs=4)]: Done 792 tasks      | elapsed:    0.2s\n",
      "[Parallel(n_jobs=4)]: Done 1000 out of 1000 | elapsed:    0.3s finished\n",
      "[Parallel(n_jobs=4)]: Using backend ThreadingBackend with 4 concurrent workers.\n",
      "[Parallel(n_jobs=4)]: Done  42 tasks      | elapsed:    0.0s\n",
      "[Parallel(n_jobs=4)]: Done 192 tasks      | elapsed:    0.0s\n",
      "[Parallel(n_jobs=4)]: Done 442 tasks      | elapsed:    0.0s\n",
      "[Parallel(n_jobs=4)]: Done 792 tasks      | elapsed:    0.0s\n",
      "[Parallel(n_jobs=4)]: Done 1000 out of 1000 | elapsed:    0.0s finished\n",
      "[Parallel(n_jobs=4)]: Using backend ThreadingBackend with 4 concurrent workers.\n",
      "[Parallel(n_jobs=4)]: Done  42 tasks      | elapsed:    0.0s\n",
      "[Parallel(n_jobs=4)]: Done 192 tasks      | elapsed:    0.0s\n",
      "[Parallel(n_jobs=4)]: Done 442 tasks      | elapsed:    0.0s\n",
      "[Parallel(n_jobs=4)]: Done 792 tasks      | elapsed:    0.0s\n",
      "[Parallel(n_jobs=4)]: Done 1000 out of 1000 | elapsed:    0.0s finished\n"
     ]
    },
    {
     "data": {
      "text/plain": [
       "0.6521739130434783"
      ]
     },
     "execution_count": 114,
     "metadata": {},
     "output_type": "execute_result"
    }
   ],
   "source": [
    "x_train, x_test, y_train, y_test = train_test_split(features, labels, test_size=0.25, shuffle=True, stratify=None)\n",
    "RF_Model = RandomForestClassifier(n_estimators=1000, verbose=1, bootstrap=False, n_jobs=4)#, random_state = 21)\n",
    "RF_Model.fit(x_train, y_train)\n",
    "y_predict = RF_Model.predict(x_test)\n",
    "RF_Model.score(x_test, y_test)"
   ]
  },
  {
   "cell_type": "code",
   "execution_count": 115,
   "id": "e412bc8d",
   "metadata": {},
   "outputs": [
    {
     "name": "stdout",
     "output_type": "stream",
     "text": [
      "[0.18809373 0.10135733 0.09655633 0.2764805  0.33751212]\n"
     ]
    }
   ],
   "source": [
    "print(RF_Model.feature_importances_)"
   ]
  },
  {
   "cell_type": "code",
   "execution_count": 116,
   "id": "d16b1eb1",
   "metadata": {},
   "outputs": [
    {
     "name": "stdout",
     "output_type": "stream",
     "text": [
      "(182,)\n",
      "(182, 5)\n"
     ]
    }
   ],
   "source": [
    "labels = np.concatenate((labels_low,  labels_scrub), axis=0)\n",
    "features = np.concatenate((features_low,  features_scrub), axis=0)\n",
    "print(labels.shape)\n",
    "print(features.shape)"
   ]
  },
  {
   "cell_type": "code",
   "execution_count": 117,
   "id": "8c1436b2",
   "metadata": {},
   "outputs": [
    {
     "name": "stderr",
     "output_type": "stream",
     "text": [
      "[Parallel(n_jobs=4)]: Using backend ThreadingBackend with 4 concurrent workers.\n",
      "[Parallel(n_jobs=4)]: Done  42 tasks      | elapsed:    0.0s\n",
      "[Parallel(n_jobs=4)]: Done 192 tasks      | elapsed:    0.0s\n",
      "[Parallel(n_jobs=4)]: Done 442 tasks      | elapsed:    0.1s\n",
      "[Parallel(n_jobs=4)]: Done 792 tasks      | elapsed:    0.2s\n",
      "[Parallel(n_jobs=4)]: Done 1000 out of 1000 | elapsed:    0.3s finished\n",
      "[Parallel(n_jobs=4)]: Using backend ThreadingBackend with 4 concurrent workers.\n",
      "[Parallel(n_jobs=4)]: Done  42 tasks      | elapsed:    0.0s\n",
      "[Parallel(n_jobs=4)]: Done 192 tasks      | elapsed:    0.0s\n",
      "[Parallel(n_jobs=4)]: Done 442 tasks      | elapsed:    0.0s\n",
      "[Parallel(n_jobs=4)]: Done 792 tasks      | elapsed:    0.0s\n",
      "[Parallel(n_jobs=4)]: Done 1000 out of 1000 | elapsed:    0.0s finished\n",
      "[Parallel(n_jobs=4)]: Using backend ThreadingBackend with 4 concurrent workers.\n",
      "[Parallel(n_jobs=4)]: Done  42 tasks      | elapsed:    0.0s\n",
      "[Parallel(n_jobs=4)]: Done 192 tasks      | elapsed:    0.0s\n",
      "[Parallel(n_jobs=4)]: Done 442 tasks      | elapsed:    0.0s\n",
      "[Parallel(n_jobs=4)]: Done 792 tasks      | elapsed:    0.0s\n",
      "[Parallel(n_jobs=4)]: Done 1000 out of 1000 | elapsed:    0.0s finished\n"
     ]
    },
    {
     "data": {
      "text/plain": [
       "0.8913043478260869"
      ]
     },
     "execution_count": 117,
     "metadata": {},
     "output_type": "execute_result"
    }
   ],
   "source": [
    "x_train, x_test, y_train, y_test = train_test_split(features, labels, test_size=0.25, shuffle=True, stratify=None)\n",
    "RF_Model = RandomForestClassifier(n_estimators=1000, verbose=1, bootstrap=False, n_jobs=4)#, random_state = 21)\n",
    "RF_Model.fit(x_train, y_train)\n",
    "y_predict = RF_Model.predict(x_test)\n",
    "RF_Model.score(x_test, y_test)"
   ]
  },
  {
   "cell_type": "code",
   "execution_count": 118,
   "id": "1a4018eb",
   "metadata": {},
   "outputs": [
    {
     "name": "stdout",
     "output_type": "stream",
     "text": [
      "[0.10304702 0.14127815 0.16128471 0.35255283 0.24183729]\n"
     ]
    }
   ],
   "source": [
    "print(RF_Model.feature_importances_)"
   ]
  },
  {
   "cell_type": "code",
   "execution_count": null,
   "id": "97bfa360",
   "metadata": {},
   "outputs": [],
   "source": []
  },
  {
   "cell_type": "code",
   "execution_count": null,
   "id": "a63430ad",
   "metadata": {},
   "outputs": [],
   "source": []
  },
  {
   "cell_type": "code",
   "execution_count": null,
   "id": "0d1feb83",
   "metadata": {},
   "outputs": [],
   "source": []
  },
  {
   "cell_type": "code",
   "execution_count": null,
   "id": "294d08b4",
   "metadata": {},
   "outputs": [],
   "source": []
  },
  {
   "cell_type": "code",
   "execution_count": null,
   "id": "4dd665a2",
   "metadata": {},
   "outputs": [],
   "source": []
  },
  {
   "cell_type": "code",
   "execution_count": null,
   "id": "8afa959a",
   "metadata": {},
   "outputs": [],
   "source": []
  },
  {
   "cell_type": "code",
   "execution_count": null,
   "id": "9a9debcf",
   "metadata": {},
   "outputs": [],
   "source": []
  },
  {
   "cell_type": "code",
   "execution_count": null,
   "id": "36d84305",
   "metadata": {},
   "outputs": [],
   "source": [
    "not_scrub = zones_gdf.loc[zones_gdf['Label'] == 'Unlikely to be scrub']"
   ]
  },
  {
   "cell_type": "code",
   "execution_count": null,
   "id": "5152fc75",
   "metadata": {},
   "outputs": [],
   "source": [
    "print(len(scrub.index))\n",
    "print(len(not_scrub.index))"
   ]
  },
  {
   "cell_type": "code",
   "execution_count": null,
   "id": "8fbc6e66",
   "metadata": {},
   "outputs": [],
   "source": [
    "cols_of_interest = ['mean_contrast', 'mean_dissimilarity', 'mean_homogeneity', 'mean_energy', 'mean_correlation', \n",
    "    'mean_ASM', 'min_contrast', 'min_dissimilarity', 'min_homogeneity', 'min_energy', 'min_correlation', \n",
    "    'min_ASM', 'max_contrast', 'max_dissimilarity', 'max_homogeneity', 'max_energy', 'max_correlation', \n",
    "    'max_ASM', 'sd_contrast', 'sd_dissimilarity', 'sd_homogeneity', 'sd_energy', 'sd_correlation', 'sd_ASM']\n",
    "xs = range(0,len(scrub.index))\n",
    "xns = range(0,len(not_scrub.index))\n",
    "for column in cols_of_interest:\n",
    "    plt.plot(xs, scrub[column],  color='red', marker=\".\", alpha=0.1, label='scrub')\n",
    "    plt.plot(xns, not_scrub[column],  color='blue', marker=\",\", alpha=0.1, label='not scrub')\n",
    "    plt.title('Column: ' + column)\n",
    "    plt.legend()\n",
    "    plt.show()\n",
    "\n",
    "\n"
   ]
  },
  {
   "cell_type": "code",
   "execution_count": null,
   "id": "85726c1f",
   "metadata": {},
   "outputs": [],
   "source": [
    "\n",
    "\n",
    "plt.scatter(scrub['mean_contrast'], scrub['mean_homogeneity'],  color='red', marker=\",\", alpha=0.1, label='scrub')\n",
    "plt.scatter(not_scrub['mean_contrast'], not_scrub['mean_homogeneity'],  color='blue', marker=\",\", alpha=0.1, label='not scrub')\n",
    "plt.title('Training and validation loss')\n",
    "plt.legend()\n",
    "\n",
    "\n",
    "\n",
    "\n"
   ]
  },
  {
   "cell_type": "code",
   "execution_count": null,
   "id": "b34dcdeb",
   "metadata": {},
   "outputs": [],
   "source": [
    "sns.jointplot(data=zones_gdf, x=\"mean_energy\", y=\"mean_contrast\", hue=\"Label\", height=20)"
   ]
  },
  {
   "cell_type": "code",
   "execution_count": null,
   "id": "d15708bb",
   "metadata": {},
   "outputs": [],
   "source": [
    "not_scrub.hist(figsize=(15,10))"
   ]
  },
  {
   "cell_type": "code",
   "execution_count": null,
   "id": "77d97187",
   "metadata": {},
   "outputs": [],
   "source": [
    "scrub.hist(figsize=(15,10))"
   ]
  },
  {
   "cell_type": "code",
   "execution_count": null,
   "id": "812cbc8e",
   "metadata": {},
   "outputs": [],
   "source": [
    "sc"
   ]
  },
  {
   "cell_type": "code",
   "execution_count": null,
   "id": "18859fc1",
   "metadata": {},
   "outputs": [],
   "source": [
    "plot_df"
   ]
  },
  {
   "cell_type": "code",
   "execution_count": null,
   "id": "0d614d4b",
   "metadata": {},
   "outputs": [],
   "source": [
    "cols_of_interest = ['mean_contrast', 'mean_dissimilarity', 'mean_homogeneity', 'mean_energy', 'mean_correlation', \n",
    "    'mean_ASM', 'min_contrast', 'min_dissimilarity', 'min_homogeneity', 'min_energy', 'min_correlation', \n",
    "    'min_ASM', 'max_contrast', 'max_dissimilarity', 'max_homogeneity', 'max_energy', 'max_correlation', \n",
    "    'max_ASM', 'sd_contrast', 'sd_dissimilarity', 'sd_homogeneity', 'sd_energy', 'sd_correlation', 'sd_ASM']\n",
    "\n",
    "for column in cols_of_interest:\n",
    "    nosc =  not_scrub[column]\n",
    "    sc =  scrub[column]\n",
    "    fig, ax = plt.subplots()\n",
    "    ax.hist(sc, color=\"blue\", alpha=0.5, bins=20)\n",
    "    ax.hist(nosc, color=\"red\", alpha=0.5, bins=20)\n",
    "    plt.title('Column: ' + column)\n",
    "    plt.show()\n"
   ]
  },
  {
   "cell_type": "code",
   "execution_count": null,
   "id": "cdf82670",
   "metadata": {},
   "outputs": [],
   "source": []
  }
 ],
 "metadata": {
  "kernelspec": {
   "display_name": "Python 3 (ipykernel)",
   "language": "python",
   "name": "python3"
  },
  "language_info": {
   "codemirror_mode": {
    "name": "ipython",
    "version": 3
   },
   "file_extension": ".py",
   "mimetype": "text/x-python",
   "name": "python",
   "nbconvert_exporter": "python",
   "pygments_lexer": "ipython3",
   "version": "3.7.13"
  }
 },
 "nbformat": 4,
 "nbformat_minor": 5
}
